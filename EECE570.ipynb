{
 "cells": [
  {
   "cell_type": "code",
   "execution_count": null,
   "metadata": {},
   "outputs": [],
   "source": [
    "# %pip install torch\n",
    "# %pip install transformers\n",
    "# %pip install datasets\n",
    "# %pip install scikit-learn\n",
    "# %pip install numpy\n",
    "# %pip install scipy\n",
    "# %pip install matplotlib\n",
    "# %pip install seaborn\n",
    "# %pip install --upgrade pillow==9.5.0\n",
    "# %pip install plotly.express\n",
    "# %pip install pycountry\n",
    "# %pip install umap-learn\n",
    "# %pip install hdbscan"
   ]
  },
  {
   "cell_type": "code",
   "execution_count": 2,
   "metadata": {},
   "outputs": [
    {
     "name": "stderr",
     "output_type": "stream",
     "text": [
      "/Library/Frameworks/Python.framework/Versions/3.12/lib/python3.12/site-packages/tqdm/auto.py:21: TqdmWarning: IProgress not found. Please update jupyter and ipywidgets. See https://ipywidgets.readthedocs.io/en/stable/user_install.html\n",
      "  from .autonotebook import tqdm as notebook_tqdm\n"
     ]
    }
   ],
   "source": [
    "import os\n",
    "import torch\n",
    "import numpy as np\n",
    "import pandas as pd\n",
    "from datasets import load_dataset, Image\n",
    "from transformers import CLIPModel, CLIPProcessor\n",
    "import json\n",
    "from datasets import load_dataset, Image\n",
    "import json\n",
    "import numpy as np\n",
    "import pandas as pd\n",
    "from itertools import combinations\n",
    "from sklearn.metrics.pairwise import cosine_similarity\n",
    "import os\n",
    "import matplotlib.pyplot as plt\n"
   ]
  },
  {
   "cell_type": "code",
   "execution_count": null,
   "metadata": {},
   "outputs": [],
   "source": [
    "selected_countries = [\n",
    "    \"japan\",                   # Asia – Western\n",
    "    \"china\",                   # Asia – Non‑Western\n",
    "    \"india\",                   # Asia – Non‑Western\n",
    "    \"germany\",                 # Europe – Western\n",
    "    \"spain\",                   # Europe – Western\n",
    "    \"united kingdom\",          # Europe – Western\n",
    "    \"south africa\",            # Africa – Non‑Western\n",
    "    \"nigeria\",                 # Africa – Non‑Western\n",
    "    \"egypt\",                   # Africa – Non‑Western\n",
    "    \"united states of america\",# North America – Western\n",
    "    \"canada\",                  # North America – Western\n",
    "    \"argentina\",               # South America – Non‑Western\n",
    "    \"brazil\",                  # South America – Non‑Western\n",
    "    \"australia\",               # Oceania – Western\n",
    "    \"new zealand\",             # Oceania – Western\n",
    "    \"fiji\"                     # Oceania – Non‑Western\n",
    "]\n",
    "\n",
    "# Split lists\n",
    "western_regions = [\n",
    "    \"germany\",\n",
    "    \"new zealand\",\n",
    "    \"spain\",\n",
    "    \"united kingdom\",\n",
    "    \"united states of america\",\n",
    "    \"canada\",\n",
    "    \"australia\"\n",
    "]\n",
    "\n",
    "non_western_regions = [\n",
    "    \"japan\",\n",
    "    \"china\",\n",
    "    \"india\",\n",
    "    \"south africa\",\n",
    "    \"nigeria\",\n",
    "    \"egypt\",\n",
    "    \"argentina\",\n",
    "    \"brazil\",\n",
    "    \"fiji\"\n",
    "]\n",
    "\n",
    "CUSTOM_ORDER = [\n",
    "    \"united states of america\",\n",
    "    \"canada\",\n",
    "    \"australia\",\n",
    "    \"united kingdom\",\n",
    "    \"new zealand\",\n",
    "    \"germany\",\n",
    "    \"spain\",\n",
    "    \"japan\",\n",
    "    \"fiji\",\n",
    "    \"argentina\",\n",
    "    \"brazil\",\n",
    "    \"india\",\n",
    "    \"china\",\n",
    "    \"south africa\",\n",
    "    \"nigeria\",\n",
    "    \"egypt\"\n",
    "]\n"
   ]
  },
  {
   "cell_type": "code",
   "execution_count": null,
   "metadata": {},
   "outputs": [],
   "source": [
    "\n",
    "ds = load_dataset('UBCNLP/GlobalRG-Retrieval', split='test')\n",
    "ds = ds.cast_column('image', Image())  \n",
    "ds = ds.select([i for i in range(len(ds)) if i != 1143])\n",
    "ds = ds.select([i for i in range(len(ds)) if i != 2303])\n",
    "ds = ds.filter(lambda x: x[\"region\"].lower().strip() in selected_countries)\n",
    "ds = ds.filter(lambda x: x['universal'].lower().strip() != \"farming\")"
   ]
  },
  {
   "cell_type": "code",
   "execution_count": 14,
   "metadata": {},
   "outputs": [
    {
     "data": {
      "text/plain": [
       "Dataset({\n",
       "    features: ['image', 'region', 'universal'],\n",
       "    num_rows: 912\n",
       "})"
      ]
     },
     "execution_count": 14,
     "metadata": {},
     "output_type": "execute_result"
    }
   ],
   "source": [
    "ds"
   ]
  },
  {
   "cell_type": "code",
   "execution_count": null,
   "metadata": {},
   "outputs": [],
   "source": [
    "import pandas as pd\n",
    "df = pd.DataFrame(ds)\n",
    "df['region'] = df['region'].str.lower().str.strip()\n",
    "df['universal'] = df['universal'].str.strip()\n",
    "summary = df.groupby(['region', 'universal']).size().reset_index(name='count')\n",
    "summary = summary.sort_values(by=['region', 'count'], ascending=[True, False])\n",
    "summary.to_csv(\"region_universal_summary.csv\", index=False)\n"
   ]
  },
  {
   "cell_type": "code",
   "execution_count": null,
   "metadata": {},
   "outputs": [],
   "source": [
    "import torch\n",
    "import numpy as np\n",
    "from transformers import CLIPModel, CLIPProcessor\n",
    "model = CLIPModel.from_pretrained(\"openai/clip-vit-base-patch32\")\n",
    "processor = CLIPProcessor.from_pretrained(\"openai/clip-vit-base-patch32\") \n"
   ]
  },
  {
   "cell_type": "markdown",
   "metadata": {},
   "source": [
    "<!-- # Generte the embeddings for each record, and categorize them based on thier western alignment. Save it as a Jsonl. -->"
   ]
  },
  {
   "cell_type": "code",
   "execution_count": null,
   "metadata": {},
   "outputs": [
    {
     "name": "stdout",
     "output_type": "stream",
     "text": [
      "\n",
      "✅ Finished embedding 912 samples.\n"
     ]
    }
   ],
   "source": [
    "# ------------------ Setup ------------------\n",
    "CHECKPOINT_FILE = \"clip_embeddings_checkpoint.jsonl\"  \n",
    "seen_indices = set()\n",
    "\n",
    "# Load existing checkpoint if exists\n",
    "if os.path.exists(CHECKPOINT_FILE):\n",
    "    with open(CHECKPOINT_FILE, \"r\") as f:\n",
    "        records = [json.loads(line) for line in f]\n",
    "    seen_indices = set(rec[\"index\"] for rec in records)\n",
    "    print(f\"Loaded {len(records)} records from checkpoint.\")\n",
    "else:\n",
    "    records = []\n",
    "\n",
    "# ------------------ Loop through dataset ------------------\n",
    "for idx, sample in enumerate(ds):\n",
    "    if idx in seen_indices:\n",
    "        continue\n",
    "\n",
    "    try:\n",
    "        img = sample[\"image\"]\n",
    "        region = sample[\"region\"].lower().strip()\n",
    "        universal = sample[\"universal\"].strip()\n",
    "        west_region = 1 if region in western_regions else 0\n",
    "\n",
    "        # Get image embedding\n",
    "        inputs = processor(images=img, return_tensors=\"pt\")\n",
    "        with torch.no_grad():\n",
    "            image_emb = model.get_image_features(**inputs).cpu().numpy().flatten().tolist()\n",
    "\n",
    "        # Get text embedding\n",
    "        text_inputs = processor(text=[universal], return_tensors=\"pt\", padding=True)\n",
    "        with torch.no_grad():\n",
    "            text_emb = model.get_text_features(**text_inputs).cpu().numpy().flatten().tolist()\n",
    "\n",
    "       # Build only your caption prompt\n",
    "        caption = f\"A photo of a {universal}\"\n",
    "        txt_inputs = processor(text=[caption],\n",
    "                            return_tensors=\"pt\",\n",
    "                            padding=True)\n",
    "\n",
    "        with torch.no_grad():\n",
    "            caption_emb = model.get_text_features(**txt_inputs).cpu().numpy().flatten().tolist()\n",
    "\n",
    "        # Save record\n",
    "        record = {\n",
    "            \"index\": idx,\n",
    "            \"region\": region,\n",
    "            \"west_region\": west_region,\n",
    "            \"universal\": universal,\n",
    "            \"image_embedding\": image_emb,\n",
    "            \"universal_embedding\": text_emb,\n",
    "            \"universal_caption_embedding\": caption_emb\n",
    "        }\n",
    "\n",
    "        with open(CHECKPOINT_FILE, \"a\") as f:\n",
    "            f.write(json.dumps(record) + \"\\n\")\n",
    "\n",
    "        records.append(record)\n",
    "\n",
    "    except Exception as e:\n",
    "        print(f\"Error at index {idx}: {e}\")\n",
    "        continue\n",
    "\n",
    "# ------------------ Convert to DataFrame ------------------\n",
    "df = pd.DataFrame(records)\n",
    "print(f\"\\n Finished embedding {len(df)} samples.\")"
   ]
  },
  {
   "cell_type": "code",
   "execution_count": null,
   "metadata": {},
   "outputs": [
    {
     "name": "stdout",
     "output_type": "stream",
     "text": [
      "⚠️ No records found with universal == 'farming' — nothing deleted.\n"
     ]
    }
   ],
   "source": [
    "# ------------------ Delete all 'farming' universal records ------------------\n",
    "to_delete = df[df[\"universal\"].str.lower().str.strip() == \"farming\"]\n",
    "\n",
    "if not to_delete.empty:\n",
    "    print(f\"Found {len(to_delete)} records with universal == 'farming' — deleting them.\")\n",
    "    \n",
    "    # Drop those rows\n",
    "    df = df.drop(to_delete.index)\n",
    "    \n",
    "    # Save updated DataFrame back to JSONL\n",
    "    with open(CHECKPOINT_FILE, \"w\") as f:\n",
    "        for record in df.to_dict(orient=\"records\"):\n",
    "            f.write(json.dumps(record) + \"\\n\")\n",
    "    \n",
    "    print(\"Updated checkpoint file saved after removing 'farming' records.\")\n",
    "else:\n",
    "    print(\"No records found with universal == 'farming' — nothing deleted.\")"
   ]
  },
  {
   "cell_type": "code",
   "execution_count": 20,
   "metadata": {},
   "outputs": [
    {
     "data": {
      "text/plain": [
       "912"
      ]
     },
     "execution_count": 20,
     "metadata": {},
     "output_type": "execute_result"
    }
   ],
   "source": [
    "len(df)\n",
    "#19 universals * 12 countries * 3 samples = 648"
   ]
  },
  {
   "cell_type": "code",
   "execution_count": null,
   "metadata": {},
   "outputs": [],
   "source": [
    "\n",
    "summary = df.groupby(['region', 'universal']).size().reset_index(name='count')\n",
    "\n",
    "summary = summary.sort_values(by=['region', 'count'], ascending=[True, False])\n",
    "\n",
    "\n",
    "summary.to_csv(\"region_universal_summary_post.csv\", index=False)\n"
   ]
  },
  {
   "cell_type": "markdown",
   "metadata": {},
   "source": [
    "# inspect \n"
   ]
  },
  {
   "cell_type": "code",
   "execution_count": null,
   "metadata": {},
   "outputs": [
    {
     "name": "stdout",
     "output_type": "stream",
     "text": [
      "✅ Found 54 matching samples.\n",
      "✅ Saved 54 images to 'sampled_images/'\n"
     ]
    }
   ],
   "source": [
    "import os\n",
    "import random\n",
    "from datasets import load_dataset, Image\n",
    "from PIL import Image as PILImage\n",
    "\n",
    "selected_regions = {\n",
    "    \"india\", \"germany\", \"south africa\", \"canada\", \"brazil\", \"australia\"\n",
    "}\n",
    "selected_universals = {\n",
    "    \"wedding\", \"funeral\", \"sports\", \"drinks\", \"cooking\"\n",
    "}\n",
    "\n",
    "filtered_ds = ds.filter(lambda x: x[\"region\"].lower().strip() in selected_regions and x[\"universal\"].strip() in selected_universals)\n",
    "print(f\"✅ Found {len(filtered_ds)} matching samples.\")\n",
    "\n",
    "sampled_ds = filtered_ds.shuffle(seed=42).select(range(min(NUM_SAMPLES, len(filtered_ds))))\n",
    "\n",
    "for i, sample in enumerate(sampled_ds):\n",
    "    img: PILImage = sample[\"image\"].convert(\"RGB\")\n",
    "    region = sample[\"region\"].lower().replace(\" \", \"_\")\n",
    "    universal = sample[\"universal\"].lower().replace(\" \", \"_\")\n",
    "    filename = f\"{i:02d}_{region}_{universal}.jpg\"\n",
    "    \n",
    "    img.save(os.path.join(OUTPUT_DIR, filename))\n",
    "\n",
    "print(f\"✅ Saved {len(sampled_ds)} images to '{OUTPUT_DIR}/'\")"
   ]
  },
  {
   "cell_type": "markdown",
   "metadata": {},
   "source": [
    "# Load Processed Dataset\n"
   ]
  },
  {
   "cell_type": "code",
   "execution_count": null,
   "metadata": {},
   "outputs": [
    {
     "name": "stdout",
     "output_type": "stream",
     "text": [
      "Loaded 912 records from clip_embeddings_checkpoint.jsonl\n"
     ]
    }
   ],
   "source": [
    "def load_clip_embeddings(jsonl_path):\n",
    "    with open(jsonl_path, \"r\") as f:\n",
    "        data = [json.loads(line) for line in f]\n",
    "    print(f\"Loaded {len(data)} records from {jsonl_path}\")\n",
    "    return data\n",
    "\n",
    "data = load_clip_embeddings(\"clip_embeddings_checkpoint.jsonl\")\n",
    "df = pd.DataFrame(data)"
   ]
  },
  {
   "cell_type": "code",
   "execution_count": 7,
   "metadata": {},
   "outputs": [
    {
     "name": "stdout",
     "output_type": "stream",
     "text": [
      "['music', 'eating habits', 'religion', 'funeral', 'transport', 'dinner', 'clothing', 'ritual', 'dessert', 'greeting', 'dance', 'lunch', 'marriage', 'sports', 'festival', 'breakfast', 'drinks', 'headcoverings', 'instrument']\n"
     ]
    }
   ],
   "source": [
    "unique_concepts = list(set(df['universal']))\n",
    "print(unique_concepts)"
   ]
  },
  {
   "cell_type": "code",
   "execution_count": 8,
   "metadata": {},
   "outputs": [
    {
     "name": "stdout",
     "output_type": "stream",
     "text": [
      "['new zealand', 'spain', 'canada', 'united kingdom', 'fiji', 'egypt', 'india', 'brazil', 'china', 'germany', 'australia', 'argentina', 'south africa', 'united states of america', 'nigeria', 'japan']\n"
     ]
    }
   ],
   "source": [
    "unique_concepts = list(set(df['region']))\n",
    "print(unique_concepts)\n"
   ]
  },
  {
   "cell_type": "markdown",
   "metadata": {},
   "source": [
    "<!-- 3. Visualizing Embeddings with t-SNE\n",
    "\n",
    "To understand the embeddings, we project them into 2D using t-SNE (t-distributed Stochastic Neighbor Embedding). This nonlinear dimensionality reduction helps visualize clusters of similar images. We use scikit-learn’s TSNE from sklearn.manifold to transform the high-dimensional embeddings into two dimensions: -->"
   ]
  },
  {
   "cell_type": "markdown",
   "metadata": {},
   "source": [
    "# Cosine Similarity of Same-Concept Images Across Countries"
   ]
  },
  {
   "cell_type": "code",
   "execution_count": 16,
   "metadata": {},
   "outputs": [],
   "source": [
    "\n",
    "# Convert embeddings from list to NumPy array\n",
    "df[\"image_embedding\"] = df[\"image_embedding\"].apply(np.array)\n",
    "df[\"universal_embedding\"] = df[\"universal_embedding\"].apply(np.array)\n",
    "df[\"universal_caption_embedding\"] = df[\"universal_caption_embedding\"].apply(np.array)"
   ]
  },
  {
   "cell_type": "code",
   "execution_count": null,
   "metadata": {},
   "outputs": [],
   "source": [
    "def compute_similarity_matrix(df, concept):\n",
    "    sub = df[df[\"universal\"] == concept]\n",
    "    regions = sorted(sub[\"region\"].unique())\n",
    "    emb_map = {\n",
    "        r: np.stack(sub[sub[\"region\"] == r][\"image_embedding\"].values)\n",
    "        for r in regions\n",
    "    }\n",
    "    n = len(regions)\n",
    "    mat = np.zeros((n, n), dtype=float)\n",
    "    for i, r1 in enumerate(regions):\n",
    "        for j, r2 in enumerate(regions):\n",
    "            mat[i, j] = cosine_similarity(emb_map[r1], emb_map[r2]).mean()\n",
    "    return regions, mat\n",
    "\n",
    "def reorder_matrix(regions, mat, custom_order):\n",
    "    ordered = [r for r in custom_order if r in regions]\n",
    "    ordered += [r for r in regions if r not in ordered]\n",
    "    idx = [regions.index(r) for r in ordered]\n",
    "    return ordered, mat[np.ix_(idx, idx)]\n",
    "\n",
    "import os\n",
    "import numpy as np\n",
    "import matplotlib.pyplot as plt\n",
    "from matplotlib.colors import TwoSlopeNorm\n",
    "\n",
    "def plot_and_save_matrix(regions, mat, concept, out_dir):\n",
    "    os.makedirs(out_dir, exist_ok=True)\n",
    "    fig, ax = plt.subplots(figsize=(8, 6))\n",
    "\n",
    "    vmin, vmax = mat.min(), mat.max()\n",
    "    norm = TwoSlopeNorm(vmin=vmin, vcenter=mat.mean(), vmax=vmax)\n",
    "    cmap = plt.get_cmap(\"cividis\")\n",
    "    im = ax.imshow(mat, cmap=cmap, norm=norm)\n",
    "\n",
    "    ax.set_xticks(range(len(regions)))\n",
    "    ax.set_yticks(range(len(regions)))\n",
    "    ax.set_xticklabels(regions, rotation=90)\n",
    "    ax.set_yticklabels(regions)\n",
    "    ax.set_title(f\"Cosine Similarity for '{concept}'\")\n",
    "\n",
    "    for i in range(mat.shape[0]):\n",
    "        for j in range(mat.shape[1]):\n",
    "            val = mat[i, j]\n",
    "            r, g, b, _ = cmap(norm(val))\n",
    "            lum = 0.2126*r + 0.7152*g + 0.0722*b\n",
    "            text_color = \"white\" if lum < 0.5 else \"black\"\n",
    "\n",
    "            ax.text(j, i, f\"{val:.2f}\", ha=\"center\", va=\"center\",\n",
    "                    color=text_color, fontsize=6)\n",
    "\n",
    "    cbar = fig.colorbar(im, ax=ax, fraction=0.046, pad=0.04)\n",
    "    cbar.set_label(\"Mean Cosine Similarity\", rotation=270, labelpad=15)\n",
    "\n",
    "    fig.tight_layout()\n",
    "    safe = concept.replace(\" \", \"_\")\n",
    "    out_path = os.path.join(out_dir, f\"heatmap_{safe}_similarity.png\")\n",
    "    plt.savefig(out_path, dpi=300)\n",
    "    plt.close(fig)\n",
    "    print(f\"Saved heatmap to {out_path}\")"
   ]
  },
  {
   "cell_type": "code",
   "execution_count": null,
   "metadata": {},
   "outputs": [
    {
     "name": "stdout",
     "output_type": "stream",
     "text": [
      "Saved heatmap to CSSameConceptImg/heatmap_drinks_similarity.png\n",
      "Saved heatmap to CSSameConceptImg/heatmap_music_similarity.png\n",
      "Saved heatmap to CSSameConceptImg/heatmap_eating_habits_similarity.png\n",
      "Saved heatmap to CSSameConceptImg/heatmap_transport_similarity.png\n",
      "Saved heatmap to CSSameConceptImg/heatmap_greeting_similarity.png\n",
      "Saved heatmap to CSSameConceptImg/heatmap_instrument_similarity.png\n",
      "Saved heatmap to CSSameConceptImg/heatmap_dessert_similarity.png\n",
      "Saved heatmap to CSSameConceptImg/heatmap_marriage_similarity.png\n",
      "Saved heatmap to CSSameConceptImg/heatmap_clothing_similarity.png\n",
      "Saved heatmap to CSSameConceptImg/heatmap_lunch_similarity.png\n",
      "Saved heatmap to CSSameConceptImg/heatmap_dinner_similarity.png\n",
      "Saved heatmap to CSSameConceptImg/heatmap_sports_similarity.png\n",
      "Saved heatmap to CSSameConceptImg/heatmap_headcoverings_similarity.png\n",
      "Saved heatmap to CSSameConceptImg/heatmap_religion_similarity.png\n",
      "Saved heatmap to CSSameConceptImg/heatmap_dance_similarity.png\n",
      "Saved heatmap to CSSameConceptImg/heatmap_funeral_similarity.png\n",
      "Saved heatmap to CSSameConceptImg/heatmap_ritual_similarity.png\n",
      "Saved heatmap to CSSameConceptImg/heatmap_festival_similarity.png\n",
      "Saved heatmap to CSSameConceptImg/heatmap_breakfast_similarity.png\n",
      "✅ Saved 19 confusion‑matrix plots into 'CSSameConceptImg/'\n"
     ]
    }
   ],
   "source": [
    "PLOTS_DIR = \"CSSameConceptImg\"\n",
    "os.makedirs(PLOTS_DIR, exist_ok=True)\n",
    "\n",
    "concepts = df[\"universal\"].unique()\n",
    "\n",
    "for concept in concepts:\n",
    "    regions, sim_mat = compute_similarity_matrix(df, concept)\n",
    "    ordered_regions, ordered_mat = reorder_matrix(regions, sim_mat, CUSTOM_ORDER)\n",
    "    plot_and_save_matrix(ordered_regions, ordered_mat, concept, PLOTS_DIR)\n",
    "    np.save(os.path.join(PLOTS_DIR, f\"{concept}_similarity.npy\"), ordered_mat)\n",
    "\n",
    "print(f\"✅ Saved {len(concepts)} confusion‑matrix plots into '{PLOTS_DIR}/'\")"
   ]
  },
  {
   "cell_type": "code",
   "execution_count": null,
   "metadata": {},
   "outputs": [
    {
     "name": "stdout",
     "output_type": "stream",
     "text": [
      "          concept  n_ww  n_wn   mean_ww   mean_wn    t_stat       p_welch  \\\n",
      "18        funeral    21    63  0.614172  0.547292  8.234204  7.044453e-11   \n",
      "17       marriage    21    63  0.699636  0.590259  7.059902  1.976701e-09   \n",
      "1         dessert    21    63  0.715130  0.670203  5.678481  1.322364e-06   \n",
      "3       breakfast    21    63  0.694318  0.636848  5.450027  2.601163e-06   \n",
      "7       transport    21    63  0.635052  0.574348  4.900656  5.512099e-06   \n",
      "6   headcoverings    21    63  0.493155  0.454211  4.451381  2.276687e-05   \n",
      "13  eating habits    21    63  0.657915  0.605466  4.582732  4.161215e-05   \n",
      "2        religion    21    63  0.600870  0.548801  4.282756  6.175239e-05   \n",
      "0           dance    21    63  0.637618  0.613985  2.642608  5.167093e-03   \n",
      "15       greeting    21    63  0.549396  0.497878  2.462007  9.462977e-03   \n",
      "9           lunch    21    63  0.654404  0.637818  2.208389  1.531321e-02   \n",
      "5          drinks    21    63  0.663677  0.625076  2.231716  1.636481e-02   \n",
      "14         sports    21    63  0.530809  0.511188  1.940361  2.951678e-02   \n",
      "8          dinner    21    63  0.643252  0.624290  1.887165  3.219885e-02   \n",
      "11     instrument    21    63  0.592650  0.569609  1.394493  8.690335e-02   \n",
      "16       clothing    21    63  0.496466  0.482466  0.878684  1.928683e-01   \n",
      "10         ritual    21    63  0.526483  0.529911 -0.235021  5.921761e-01   \n",
      "4           music    21    63  0.533534  0.536828 -0.291296  6.139194e-01   \n",
      "12       festival    21    63  0.582524  0.586616 -0.388154  6.502349e-01   \n",
      "\n",
      "    p_welch_bonf  u_stat          p_mw  sig_welch  sig_mw  \n",
      "18  1.338446e-09  1208.0  8.493037e-09       True    True  \n",
      "17  3.755732e-08  1116.0  1.367161e-06       True    True  \n",
      "1   2.512491e-05  1130.0  6.675706e-07       True    True  \n",
      "3   4.942210e-05  1092.0  4.458206e-06       True    True  \n",
      "7   1.047299e-04  1026.0  8.491324e-05       True    True  \n",
      "6   4.325706e-04  1021.0  1.042545e-04       True    True  \n",
      "13  7.906308e-04  1082.0  7.169363e-06       True    True  \n",
      "2   1.173295e-03  1032.0  6.615784e-05       True    True  \n",
      "0   9.817477e-02   889.0  9.515710e-03      False   False  \n",
      "15  1.797966e-01   920.0  3.847750e-03      False   False  \n",
      "9   2.909511e-01   837.0  3.532241e-02      False   False  \n",
      "5   3.109313e-01   880.0  1.216288e-02      False   False  \n",
      "14  5.608189e-01   863.0  1.893152e-02      False   False  \n",
      "8   6.117782e-01   800.0  7.700015e-02      False   False  \n",
      "11  1.000000e+00   853.0  2.424584e-02      False   False  \n",
      "16  1.000000e+00   744.0  1.984803e-01      False   False  \n",
      "10  1.000000e+00   627.0  6.411561e-01      False   False  \n",
      "4   1.000000e+00   634.0  6.138014e-01      False   False  \n",
      "12  1.000000e+00   625.0  6.488475e-01      False   False  \n",
      "Saved results to concept_image_alignment_stats.csv\n"
     ]
    }
   ],
   "source": [
    "import os\n",
    "import numpy as np\n",
    "import pandas as pd\n",
    "from itertools import combinations\n",
    "from scipy.stats import ttest_ind, mannwhitneyu\n",
    "\n",
    "MATRICES_DIR = \"CSSameConceptImg\"\n",
    "REGIONS = CUSTOM_ORDER\n",
    "\n",
    "WESTERN = {\n",
    "    \"germany\", \"spain\", \"united kingdom\",\n",
    "    \"united states of america\", \"canada\", \"australia\",\"new zealand\"\n",
    "}\n",
    "\n",
    "files = [f for f in os.listdir(MATRICES_DIR) if f.endswith(\"_similarity.npy\")]\n",
    "\n",
    "results = []\n",
    "alpha = 0.05\n",
    "n_tests = len(files)\n",
    "bonf_alpha = alpha / n_tests\n",
    "\n",
    "for fname in files:\n",
    "    concept = fname.replace(\"_similarity.npy\", \"\")\n",
    "    mat = np.load(os.path.join(MATRICES_DIR, fname))\n",
    "    \n",
    "    ww_sims = []\n",
    "    wnon_sims = []\n",
    "    \n",
    "    for i, j in combinations(range(len(REGIONS)), 2):\n",
    "        r1, r2 = REGIONS[i], REGIONS[j]\n",
    "        sim = mat[i, j]\n",
    "        if r1 in WESTERN and r2 in WESTERN:\n",
    "            ww_sims.append(sim)\n",
    "        elif (r1 in WESTERN and r2 not in WESTERN) or (r2 in WESTERN and r1 not in WESTERN):\n",
    "            wnon_sims.append(sim)\n",
    "    \n",
    "    ww_sims = np.array(ww_sims)\n",
    "    wnon_sims = np.array(wnon_sims)\n",
    "    \n",
    "    if len(ww_sims) < 2 or len(wnon_sims) < 2:\n",
    "        continue\n",
    "    \n",
    "    t_stat, p_welch = ttest_ind(ww_sims, wnon_sims,\n",
    "                                alternative='greater',\n",
    "                                equal_var=False)\n",
    "    p_welch_bonf = min(p_welch * n_tests, 1.0)\n",
    "    \n",
    "    u_stat, p_mw = mannwhitneyu(ww_sims, wnon_sims, alternative='greater')\n",
    "    \n",
    "    results.append({\n",
    "        \"concept\": concept,\n",
    "        \"n_ww\": len(ww_sims),\n",
    "        \"n_wn\": len(wnon_sims),\n",
    "        \"mean_ww\": ww_sims.mean(),\n",
    "        \"mean_wn\": wnon_sims.mean(),\n",
    "        \"t_stat\": t_stat,\n",
    "        \"p_welch\": p_welch,\n",
    "        \"p_welch_bonf\": p_welch_bonf,\n",
    "        \"u_stat\": u_stat,\n",
    "        \"p_mw\": p_mw,\n",
    "        \"sig_welch\": p_welch_bonf < alpha,\n",
    "        \"sig_mw\": p_mw < bonf_alpha\n",
    "    })\n",
    "\n",
    "res_df = pd.DataFrame(results).sort_values(\"p_welch\")\n",
    "print(res_df)\n",
    "\n",
    "res_df.to_csv(\"concept_image_alignment_stats.csv\", index=False)\n",
    "print(\"Saved results to concept_image_alignment_stats.csv\")"
   ]
  },
  {
   "cell_type": "markdown",
   "metadata": {},
   "source": [
    "“We compared pairwise cosine similarities for Western–Western versus Western–Non‑Western image pairs for each universal concept. Across 19 universals, 6 exhibited a highly significant Western–Western advantage after Bonferroni correction (e.g., marriage: t(…) = 6.64, p < 1e‑6; breakfast: t = 3.32, p < 0.05), while the remainder showed no significant difference. This pattern suggests that for certain culturally salient concepts, CLIP embeds images from Western countries into tighter clusters, consistent with visual cultural bias.”\n",
    "\n"
   ]
  },
  {
   "cell_type": "markdown",
   "metadata": {},
   "source": [
    "# Cosine Similarity of Text–Image Alignments Across Regions\n",
    "\n",
    "To examine how the same concept is depicted in different cultures, we compare embeddings for the same universal concept across different region values. We use cosine similarity as a measure of image similarity in the embedding space (cosine similarity ranges from -1 to 1, where 1 means identical direction in feature space). A higher cosine similarity between two image embeddings means the model sees those images as more similar.\n",
    "\n",
    "We can compute cosine similarity between pairs of image embeddings. For example, let’s take two images that share the same concept but come from different countries:"
   ]
  },
  {
   "cell_type": "markdown",
   "metadata": {},
   "source": [
    "## Text using pure concept vocab"
   ]
  },
  {
   "cell_type": "code",
   "execution_count": null,
   "metadata": {},
   "outputs": [
    {
     "name": "stdout",
     "output_type": "stream",
     "text": [
      "universal                 breakfast  clothing     dance   dessert    dinner  \\\n",
      "region                                                                        \n",
      "argentina                  0.240483  0.218060  0.247047  0.233348  0.225148   \n",
      "australia                  0.240392  0.227580  0.254134  0.237903  0.223345   \n",
      "brazil                     0.233573  0.204825  0.241404  0.228127  0.232669   \n",
      "canada                     0.260518  0.186425  0.242350  0.239235  0.230857   \n",
      "china                      0.215451  0.205717  0.230623  0.219720  0.245348   \n",
      "egypt                      0.212196  0.216204  0.233218  0.228164  0.228204   \n",
      "fiji                       0.236925  0.217281  0.218504  0.225999  0.232222   \n",
      "germany                    0.245658  0.220261  0.238190  0.231281  0.222047   \n",
      "india                      0.214586  0.205664  0.242280  0.210511  0.235883   \n",
      "japan                      0.223424  0.212794  0.231615  0.231229  0.239458   \n",
      "new zealand                0.230486  0.188659  0.229104  0.249481  0.231207   \n",
      "nigeria                    0.227919  0.196272  0.218493  0.209619  0.223751   \n",
      "south africa               0.235464  0.201004  0.217662  0.242538  0.218429   \n",
      "spain                      0.226777  0.208820  0.237539  0.237152  0.227682   \n",
      "united kingdom             0.248461  0.221638  0.226603  0.253359  0.234263   \n",
      "united states of america   0.247483  0.228162  0.255204  0.228550  0.240964   \n",
      "\n",
      "universal                   drinks  eating habits  festival   funeral  \\\n",
      "region                                                                  \n",
      "argentina                 0.191673       0.208609  0.241419  0.228654   \n",
      "australia                 0.249799       0.218148  0.237461  0.261353   \n",
      "brazil                    0.233126       0.231359  0.239415  0.225385   \n",
      "canada                    0.235445       0.221529  0.229052  0.264762   \n",
      "china                     0.228586       0.228144  0.239864  0.260273   \n",
      "egypt                     0.227743       0.219995  0.219943  0.265072   \n",
      "fiji                      0.229329       0.203511  0.229776  0.268346   \n",
      "germany                   0.228814       0.224202  0.228607  0.274574   \n",
      "india                     0.207043       0.216326  0.247670  0.224828   \n",
      "japan                     0.215054       0.207012  0.247741  0.273797   \n",
      "new zealand               0.236948       0.213014  0.257844  0.270897   \n",
      "nigeria                   0.212662       0.208347  0.237510  0.269565   \n",
      "south africa              0.202068       0.207671  0.243719  0.244400   \n",
      "spain                     0.240849       0.218456  0.228257  0.261983   \n",
      "united kingdom            0.198863       0.241859  0.243599  0.269065   \n",
      "united states of america  0.242784       0.225632  0.237219  0.273270   \n",
      "\n",
      "universal                 greeting  headcoverings  instrument     lunch  \\\n",
      "region                                                                    \n",
      "argentina                 0.215292       0.234125    0.267351  0.215527   \n",
      "australia                 0.216212       0.221134    0.256955  0.207181   \n",
      "brazil                    0.210555       0.199222    0.258164  0.225078   \n",
      "canada                    0.205895       0.220118    0.257753  0.228760   \n",
      "china                     0.229591       0.241416    0.261729  0.223029   \n",
      "egypt                     0.226563       0.241989    0.250980  0.214236   \n",
      "fiji                      0.205664       0.232079    0.255179  0.233889   \n",
      "germany                   0.221248       0.233034    0.271843  0.222217   \n",
      "india                     0.223217       0.225746    0.247045  0.235641   \n",
      "japan                     0.224469       0.249257    0.275095  0.240390   \n",
      "new zealand               0.216414       0.200337    0.229526  0.220836   \n",
      "nigeria                   0.228626       0.230798    0.251492  0.230075   \n",
      "south africa              0.213728       0.255822    0.252181  0.221407   \n",
      "spain                     0.214709       0.233850    0.258450  0.207938   \n",
      "united kingdom            0.231123       0.214345    0.247989  0.218462   \n",
      "united states of america  0.229020       0.195460    0.269232  0.223049   \n",
      "\n",
      "universal                 marriage     music  religion    ritual    sports  \\\n",
      "region                                                                       \n",
      "argentina                 0.247130  0.236795  0.224795  0.224004  0.226024   \n",
      "australia                 0.245055  0.222187  0.225671  0.210603  0.209424   \n",
      "brazil                    0.251662  0.213965  0.217949  0.210729  0.218774   \n",
      "canada                    0.248237  0.206257  0.221237  0.191919  0.221532   \n",
      "china                     0.223734  0.234772  0.224913  0.204815  0.226518   \n",
      "egypt                     0.241860  0.210938  0.219447  0.201824  0.222267   \n",
      "fiji                      0.222301  0.207708  0.207099  0.218578  0.223804   \n",
      "germany                   0.250850  0.223426  0.204549  0.221575  0.227598   \n",
      "india                     0.241599  0.225996  0.202016  0.222615  0.229341   \n",
      "japan                     0.218548  0.216240  0.198314  0.221706  0.241746   \n",
      "new zealand               0.242890  0.219978  0.218763  0.198040  0.218579   \n",
      "nigeria                   0.220210  0.224075  0.202615  0.215925  0.196632   \n",
      "south africa              0.222336  0.211619  0.220094  0.213203  0.224482   \n",
      "spain                     0.237764  0.230488  0.227029  0.221691  0.226860   \n",
      "united kingdom            0.227348  0.217992  0.199803  0.225939  0.225961   \n",
      "united states of america  0.236742  0.212060  0.223136  0.212695  0.226142   \n",
      "\n",
      "universal                 transport  \n",
      "region                               \n",
      "argentina                  0.241226  \n",
      "australia                  0.229610  \n",
      "brazil                     0.252094  \n",
      "canada                     0.222086  \n",
      "china                      0.265418  \n",
      "egypt                      0.251524  \n",
      "fiji                       0.242679  \n",
      "germany                    0.236521  \n",
      "india                      0.264694  \n",
      "japan                      0.249205  \n",
      "new zealand                0.229888  \n",
      "nigeria                    0.251567  \n",
      "south africa               0.245339  \n",
      "spain                      0.243412  \n",
      "united kingdom             0.228833  \n",
      "united states of america   0.234897  \n"
     ]
    }
   ],
   "source": [
    "rows = []\n",
    "for concept in df['universal'].unique():\n",
    "\n",
    "    text_emb = df.loc[df['universal'] == concept, 'universal_embedding'].iloc[0]\n",
    "\n",
    "    for region, grp in df[df['universal'] == concept].groupby('region'):\n",
    "        img_embs = np.stack(grp['image_embedding'].values)  # shape (n_imgs, 512)\n",
    "        sims = cosine_similarity([text_emb], img_embs)[0]   # shape (n_imgs,)\n",
    "        rows.append({\n",
    "            'universal': concept,\n",
    "            'region':    region,\n",
    "            'text_image_similarity': sims.mean()\n",
    "        })\n",
    "\n",
    "alignment_df = pd.DataFrame(rows)\n",
    "\n",
    "\n",
    "pivot_df = alignment_df.pivot(index='region',\n",
    "                              columns='universal',\n",
    "                              values='text_image_similarity')\n",
    "\n",
    "\n",
    "print(pivot_df)\n",
    "\n",
    "pivot_df.to_csv(\"text_image_alignment_by_region.csv\", index=True)"
   ]
  },
  {
   "cell_type": "markdown",
   "metadata": {},
   "source": [
    "### Visualize the rankings"
   ]
  },
  {
   "cell_type": "code",
   "execution_count": null,
   "metadata": {},
   "outputs": [
    {
     "name": "stdout",
     "output_type": "stream",
     "text": [
      "    universal                    region  rank  similarity\n",
      "0   breakfast                    canada     1    0.260518\n",
      "1   breakfast            united kingdom     2    0.248461\n",
      "2   breakfast  united states of america     3    0.247483\n",
      "3   breakfast                   germany     4    0.245658\n",
      "4   breakfast                 argentina     5    0.240483\n",
      "5   breakfast                 australia     6    0.240392\n",
      "6   breakfast                      fiji     7    0.236925\n",
      "7   breakfast              south africa     8    0.235464\n",
      "8   breakfast                    brazil     9    0.233573\n",
      "9   breakfast               new zealand    10    0.230486\n",
      "10  breakfast                   nigeria    11    0.227919\n",
      "11  breakfast                     spain    12    0.226777\n",
      "12  breakfast                     japan    13    0.223424\n",
      "13  breakfast                     china    14    0.215451\n",
      "14  breakfast                     india    15    0.214586\n",
      "15  breakfast                     egypt    16    0.212196\n",
      "16   clothing  united states of america     1    0.228162\n",
      "17   clothing                 australia     2    0.227580\n",
      "18   clothing            united kingdom     3    0.221638\n",
      "19   clothing                   germany     4    0.220261\n",
      "Saved full ranking to text_image_alignment_rankings.csv\n"
     ]
    }
   ],
   "source": [
    "\n",
    "# ranking_rows = []\n",
    "# for concept in pivot_df.columns:\n",
    "#     sorted_series = pivot_df[concept].sort_values(ascending=False)\n",
    "#     for rank, (region, sim) in enumerate(sorted_series.items(), start=1):\n",
    "#         ranking_rows.append({\n",
    "#             'universal': concept,\n",
    "#             'region': region,\n",
    "#             'rank': rank,\n",
    "#             'similarity': sim\n",
    "#         })\n",
    "# ranking_df = pd.DataFrame(ranking_rows)\n",
    "\n",
    "# ranking_df.to_csv(\"text_image_alignment_rankings.csv\", index=False)"
   ]
  },
  {
   "cell_type": "code",
   "execution_count": null,
   "metadata": {},
   "outputs": [
    {
     "data": {
      "application/vnd.plotly.v1+json": {
       "config": {
        "plotlyServerURL": "https://plot.ly"
       },
       "data": [
        {
         "coloraxis": "coloraxis",
         "geo": "geo",
         "hovertemplate": "<b>%{hovertext}</b><br><br>iso_a3=%{location}<br>Average Rank=%{z}<extra></extra>",
         "hovertext": [
          "argentina",
          "australia",
          "brazil",
          "canada",
          "china",
          "egypt",
          "fiji",
          "germany",
          "india",
          "japan",
          "new zealand",
          "nigeria",
          "south africa",
          "spain",
          "united kingdom",
          "united states of america"
         ],
         "locations": [
          "ARG",
          "AUS",
          "BRA",
          "CAN",
          "CHN",
          "EGY",
          "FJI",
          "DEU",
          "IND",
          "JPN",
          "NZL",
          "NGA",
          "ZAF",
          "ESP",
          "GBR",
          "USA"
         ],
         "name": "",
         "type": "choropleth",
         "z": {
          "bdata": "8xrKayivHUAor6G8hvIgQEN5DeU1lCFAbCivobyGIkAbymsor6EcQKK8hvIayiNAXkN5DeU1JECivIbyGsobQMprKK+hvCBAG8prKK+hHECH8hrKaygjQHkN5TWU1yRAvYbyGsprJECivIbyGsofQEN5DeU1lB9AlNdQXkN5GUA=",
          "dtype": "f8"
         }
        }
       ],
       "layout": {
        "coloraxis": {
         "cmax": 10.421052631578947,
         "cmin": 6.368421052631579,
         "colorbar": {
          "tickvals": {
           "bdata": "lNdQXkN5GUBsKK+hvIYdQKK8hvIayiBADeU1lNfQIkB5DeU1lNckQA==",
           "dtype": "f8"
          },
          "title": {
           "text": "Avg Rank"
          }
         },
         "colorscale": [
          [
           0,
           "rgb(8,48,107)"
          ],
          [
           0.125,
           "rgb(8,81,156)"
          ],
          [
           0.25,
           "rgb(33,113,181)"
          ],
          [
           0.375,
           "rgb(66,146,198)"
          ],
          [
           0.5,
           "rgb(107,174,214)"
          ],
          [
           0.625,
           "rgb(158,202,225)"
          ],
          [
           0.75,
           "rgb(198,219,239)"
          ],
          [
           0.875,
           "rgb(222,235,247)"
          ],
          [
           1,
           "rgb(247,251,255)"
          ]
         ]
        },
        "geo": {
         "center": {},
         "coastlinecolor": "LightGray",
         "countrycolor": "Gray",
         "domain": {
          "x": [
           0,
           1
          ],
          "y": [
           0,
           1
          ]
         },
         "landcolor": "White",
         "showcoastlines": true,
         "showcountries": true,
         "showland": true
        },
        "legend": {
         "tracegroupgap": 0
        },
        "margin": {
         "b": 0,
         "l": 0,
         "r": 0,
         "t": 50
        },
        "template": {
         "data": {
          "bar": [
           {
            "error_x": {
             "color": "#2a3f5f"
            },
            "error_y": {
             "color": "#2a3f5f"
            },
            "marker": {
             "line": {
              "color": "#E5ECF6",
              "width": 0.5
             },
             "pattern": {
              "fillmode": "overlay",
              "size": 10,
              "solidity": 0.2
             }
            },
            "type": "bar"
           }
          ],
          "barpolar": [
           {
            "marker": {
             "line": {
              "color": "#E5ECF6",
              "width": 0.5
             },
             "pattern": {
              "fillmode": "overlay",
              "size": 10,
              "solidity": 0.2
             }
            },
            "type": "barpolar"
           }
          ],
          "carpet": [
           {
            "aaxis": {
             "endlinecolor": "#2a3f5f",
             "gridcolor": "white",
             "linecolor": "white",
             "minorgridcolor": "white",
             "startlinecolor": "#2a3f5f"
            },
            "baxis": {
             "endlinecolor": "#2a3f5f",
             "gridcolor": "white",
             "linecolor": "white",
             "minorgridcolor": "white",
             "startlinecolor": "#2a3f5f"
            },
            "type": "carpet"
           }
          ],
          "choropleth": [
           {
            "colorbar": {
             "outlinewidth": 0,
             "ticks": ""
            },
            "type": "choropleth"
           }
          ],
          "contour": [
           {
            "colorbar": {
             "outlinewidth": 0,
             "ticks": ""
            },
            "colorscale": [
             [
              0,
              "#0d0887"
             ],
             [
              0.1111111111111111,
              "#46039f"
             ],
             [
              0.2222222222222222,
              "#7201a8"
             ],
             [
              0.3333333333333333,
              "#9c179e"
             ],
             [
              0.4444444444444444,
              "#bd3786"
             ],
             [
              0.5555555555555556,
              "#d8576b"
             ],
             [
              0.6666666666666666,
              "#ed7953"
             ],
             [
              0.7777777777777778,
              "#fb9f3a"
             ],
             [
              0.8888888888888888,
              "#fdca26"
             ],
             [
              1,
              "#f0f921"
             ]
            ],
            "type": "contour"
           }
          ],
          "contourcarpet": [
           {
            "colorbar": {
             "outlinewidth": 0,
             "ticks": ""
            },
            "type": "contourcarpet"
           }
          ],
          "heatmap": [
           {
            "colorbar": {
             "outlinewidth": 0,
             "ticks": ""
            },
            "colorscale": [
             [
              0,
              "#0d0887"
             ],
             [
              0.1111111111111111,
              "#46039f"
             ],
             [
              0.2222222222222222,
              "#7201a8"
             ],
             [
              0.3333333333333333,
              "#9c179e"
             ],
             [
              0.4444444444444444,
              "#bd3786"
             ],
             [
              0.5555555555555556,
              "#d8576b"
             ],
             [
              0.6666666666666666,
              "#ed7953"
             ],
             [
              0.7777777777777778,
              "#fb9f3a"
             ],
             [
              0.8888888888888888,
              "#fdca26"
             ],
             [
              1,
              "#f0f921"
             ]
            ],
            "type": "heatmap"
           }
          ],
          "histogram": [
           {
            "marker": {
             "pattern": {
              "fillmode": "overlay",
              "size": 10,
              "solidity": 0.2
             }
            },
            "type": "histogram"
           }
          ],
          "histogram2d": [
           {
            "colorbar": {
             "outlinewidth": 0,
             "ticks": ""
            },
            "colorscale": [
             [
              0,
              "#0d0887"
             ],
             [
              0.1111111111111111,
              "#46039f"
             ],
             [
              0.2222222222222222,
              "#7201a8"
             ],
             [
              0.3333333333333333,
              "#9c179e"
             ],
             [
              0.4444444444444444,
              "#bd3786"
             ],
             [
              0.5555555555555556,
              "#d8576b"
             ],
             [
              0.6666666666666666,
              "#ed7953"
             ],
             [
              0.7777777777777778,
              "#fb9f3a"
             ],
             [
              0.8888888888888888,
              "#fdca26"
             ],
             [
              1,
              "#f0f921"
             ]
            ],
            "type": "histogram2d"
           }
          ],
          "histogram2dcontour": [
           {
            "colorbar": {
             "outlinewidth": 0,
             "ticks": ""
            },
            "colorscale": [
             [
              0,
              "#0d0887"
             ],
             [
              0.1111111111111111,
              "#46039f"
             ],
             [
              0.2222222222222222,
              "#7201a8"
             ],
             [
              0.3333333333333333,
              "#9c179e"
             ],
             [
              0.4444444444444444,
              "#bd3786"
             ],
             [
              0.5555555555555556,
              "#d8576b"
             ],
             [
              0.6666666666666666,
              "#ed7953"
             ],
             [
              0.7777777777777778,
              "#fb9f3a"
             ],
             [
              0.8888888888888888,
              "#fdca26"
             ],
             [
              1,
              "#f0f921"
             ]
            ],
            "type": "histogram2dcontour"
           }
          ],
          "mesh3d": [
           {
            "colorbar": {
             "outlinewidth": 0,
             "ticks": ""
            },
            "type": "mesh3d"
           }
          ],
          "parcoords": [
           {
            "line": {
             "colorbar": {
              "outlinewidth": 0,
              "ticks": ""
             }
            },
            "type": "parcoords"
           }
          ],
          "pie": [
           {
            "automargin": true,
            "type": "pie"
           }
          ],
          "scatter": [
           {
            "fillpattern": {
             "fillmode": "overlay",
             "size": 10,
             "solidity": 0.2
            },
            "type": "scatter"
           }
          ],
          "scatter3d": [
           {
            "line": {
             "colorbar": {
              "outlinewidth": 0,
              "ticks": ""
             }
            },
            "marker": {
             "colorbar": {
              "outlinewidth": 0,
              "ticks": ""
             }
            },
            "type": "scatter3d"
           }
          ],
          "scattercarpet": [
           {
            "marker": {
             "colorbar": {
              "outlinewidth": 0,
              "ticks": ""
             }
            },
            "type": "scattercarpet"
           }
          ],
          "scattergeo": [
           {
            "marker": {
             "colorbar": {
              "outlinewidth": 0,
              "ticks": ""
             }
            },
            "type": "scattergeo"
           }
          ],
          "scattergl": [
           {
            "marker": {
             "colorbar": {
              "outlinewidth": 0,
              "ticks": ""
             }
            },
            "type": "scattergl"
           }
          ],
          "scattermap": [
           {
            "marker": {
             "colorbar": {
              "outlinewidth": 0,
              "ticks": ""
             }
            },
            "type": "scattermap"
           }
          ],
          "scattermapbox": [
           {
            "marker": {
             "colorbar": {
              "outlinewidth": 0,
              "ticks": ""
             }
            },
            "type": "scattermapbox"
           }
          ],
          "scatterpolar": [
           {
            "marker": {
             "colorbar": {
              "outlinewidth": 0,
              "ticks": ""
             }
            },
            "type": "scatterpolar"
           }
          ],
          "scatterpolargl": [
           {
            "marker": {
             "colorbar": {
              "outlinewidth": 0,
              "ticks": ""
             }
            },
            "type": "scatterpolargl"
           }
          ],
          "scatterternary": [
           {
            "marker": {
             "colorbar": {
              "outlinewidth": 0,
              "ticks": ""
             }
            },
            "type": "scatterternary"
           }
          ],
          "surface": [
           {
            "colorbar": {
             "outlinewidth": 0,
             "ticks": ""
            },
            "colorscale": [
             [
              0,
              "#0d0887"
             ],
             [
              0.1111111111111111,
              "#46039f"
             ],
             [
              0.2222222222222222,
              "#7201a8"
             ],
             [
              0.3333333333333333,
              "#9c179e"
             ],
             [
              0.4444444444444444,
              "#bd3786"
             ],
             [
              0.5555555555555556,
              "#d8576b"
             ],
             [
              0.6666666666666666,
              "#ed7953"
             ],
             [
              0.7777777777777778,
              "#fb9f3a"
             ],
             [
              0.8888888888888888,
              "#fdca26"
             ],
             [
              1,
              "#f0f921"
             ]
            ],
            "type": "surface"
           }
          ],
          "table": [
           {
            "cells": {
             "fill": {
              "color": "#EBF0F8"
             },
             "line": {
              "color": "white"
             }
            },
            "header": {
             "fill": {
              "color": "#C8D4E3"
             },
             "line": {
              "color": "white"
             }
            },
            "type": "table"
           }
          ]
         },
         "layout": {
          "annotationdefaults": {
           "arrowcolor": "#2a3f5f",
           "arrowhead": 0,
           "arrowwidth": 1
          },
          "autotypenumbers": "strict",
          "coloraxis": {
           "colorbar": {
            "outlinewidth": 0,
            "ticks": ""
           }
          },
          "colorscale": {
           "diverging": [
            [
             0,
             "#8e0152"
            ],
            [
             0.1,
             "#c51b7d"
            ],
            [
             0.2,
             "#de77ae"
            ],
            [
             0.3,
             "#f1b6da"
            ],
            [
             0.4,
             "#fde0ef"
            ],
            [
             0.5,
             "#f7f7f7"
            ],
            [
             0.6,
             "#e6f5d0"
            ],
            [
             0.7,
             "#b8e186"
            ],
            [
             0.8,
             "#7fbc41"
            ],
            [
             0.9,
             "#4d9221"
            ],
            [
             1,
             "#276419"
            ]
           ],
           "sequential": [
            [
             0,
             "#0d0887"
            ],
            [
             0.1111111111111111,
             "#46039f"
            ],
            [
             0.2222222222222222,
             "#7201a8"
            ],
            [
             0.3333333333333333,
             "#9c179e"
            ],
            [
             0.4444444444444444,
             "#bd3786"
            ],
            [
             0.5555555555555556,
             "#d8576b"
            ],
            [
             0.6666666666666666,
             "#ed7953"
            ],
            [
             0.7777777777777778,
             "#fb9f3a"
            ],
            [
             0.8888888888888888,
             "#fdca26"
            ],
            [
             1,
             "#f0f921"
            ]
           ],
           "sequentialminus": [
            [
             0,
             "#0d0887"
            ],
            [
             0.1111111111111111,
             "#46039f"
            ],
            [
             0.2222222222222222,
             "#7201a8"
            ],
            [
             0.3333333333333333,
             "#9c179e"
            ],
            [
             0.4444444444444444,
             "#bd3786"
            ],
            [
             0.5555555555555556,
             "#d8576b"
            ],
            [
             0.6666666666666666,
             "#ed7953"
            ],
            [
             0.7777777777777778,
             "#fb9f3a"
            ],
            [
             0.8888888888888888,
             "#fdca26"
            ],
            [
             1,
             "#f0f921"
            ]
           ]
          },
          "colorway": [
           "#636efa",
           "#EF553B",
           "#00cc96",
           "#ab63fa",
           "#FFA15A",
           "#19d3f3",
           "#FF6692",
           "#B6E880",
           "#FF97FF",
           "#FECB52"
          ],
          "font": {
           "color": "#2a3f5f"
          },
          "geo": {
           "bgcolor": "white",
           "lakecolor": "white",
           "landcolor": "#E5ECF6",
           "showlakes": true,
           "showland": true,
           "subunitcolor": "white"
          },
          "hoverlabel": {
           "align": "left"
          },
          "hovermode": "closest",
          "mapbox": {
           "style": "light"
          },
          "paper_bgcolor": "white",
          "plot_bgcolor": "#E5ECF6",
          "polar": {
           "angularaxis": {
            "gridcolor": "white",
            "linecolor": "white",
            "ticks": ""
           },
           "bgcolor": "#E5ECF6",
           "radialaxis": {
            "gridcolor": "white",
            "linecolor": "white",
            "ticks": ""
           }
          },
          "scene": {
           "xaxis": {
            "backgroundcolor": "#E5ECF6",
            "gridcolor": "white",
            "gridwidth": 2,
            "linecolor": "white",
            "showbackground": true,
            "ticks": "",
            "zerolinecolor": "white"
           },
           "yaxis": {
            "backgroundcolor": "#E5ECF6",
            "gridcolor": "white",
            "gridwidth": 2,
            "linecolor": "white",
            "showbackground": true,
            "ticks": "",
            "zerolinecolor": "white"
           },
           "zaxis": {
            "backgroundcolor": "#E5ECF6",
            "gridcolor": "white",
            "gridwidth": 2,
            "linecolor": "white",
            "showbackground": true,
            "ticks": "",
            "zerolinecolor": "white"
           }
          },
          "shapedefaults": {
           "line": {
            "color": "#2a3f5f"
           }
          },
          "ternary": {
           "aaxis": {
            "gridcolor": "white",
            "linecolor": "white",
            "ticks": ""
           },
           "baxis": {
            "gridcolor": "white",
            "linecolor": "white",
            "ticks": ""
           },
           "bgcolor": "#E5ECF6",
           "caxis": {
            "gridcolor": "white",
            "linecolor": "white",
            "ticks": ""
           }
          },
          "title": {
           "x": 0.05
          },
          "xaxis": {
           "automargin": true,
           "gridcolor": "white",
           "linecolor": "white",
           "ticks": "",
           "title": {
            "standoff": 15
           },
           "zerolinecolor": "white",
           "zerolinewidth": 2
          },
          "yaxis": {
           "automargin": true,
           "gridcolor": "white",
           "linecolor": "white",
           "ticks": "",
           "title": {
            "standoff": 15
           },
           "zerolinecolor": "white",
           "zerolinewidth": 2
          }
         }
        },
        "title": {
         "text": "Average Text–Image Alignment Rank by Country"
        }
       }
      }
     },
     "metadata": {},
     "output_type": "display_data"
    }
   ],
   "source": [
    "# import pandas as pd\n",
    "# import numpy as np\n",
    "# import pycountry\n",
    "# import plotly.express as px\n",
    "\n",
    "# # === 1. Prepare avg_rank DataFrame ===\n",
    "# # ranking_df has columns ['region','rank']\n",
    "# avg_rank = (\n",
    "#     ranking_df\n",
    "#     .groupby('region')['rank']\n",
    "#     .mean()\n",
    "#     .reset_index(name='avg_rank')\n",
    "# )\n",
    "\n",
    "# # === 2. Map your region names to ISO‐3 codes ===\n",
    "# def to_iso3(name):\n",
    "#     try:\n",
    "#         return pycountry.countries.lookup(name).alpha_3\n",
    "#     except:\n",
    "#         return None\n",
    "\n",
    "# avg_rank['iso_a3'] = avg_rank['region'].apply(to_iso3)\n",
    "\n",
    "# # Drop any unmapped\n",
    "# avg_rank = avg_rank.dropna(subset=['iso_a3'])\n",
    "\n",
    "# # === 3. Choose color scale and bounds ===\n",
    "# vmin, vmax = avg_rank['avg_rank'].min(), avg_rank['avg_rank'].max()\n",
    "\n",
    "# # === 4. Plot with Plotly Express ===\n",
    "# fig = px.choropleth(\n",
    "#     avg_rank,\n",
    "#     locations=\"iso_a3\",\n",
    "#     color=\"avg_rank\",\n",
    "#     hover_name=\"region\",\n",
    "#     color_continuous_scale=\"Blues_r\",    # darker = lower (better) rank\n",
    "#     range_color=(vmin, vmax),\n",
    "#     labels={\"avg_rank\": \"Average Rank\"},\n",
    "#     title=\"Average Text–Image Alignment Rank by Country\"\n",
    "# )\n",
    "\n",
    "# fig.update_geos(\n",
    "#     showcoastlines=True, coastlinecolor=\"LightGray\",\n",
    "#     showland=True, landcolor=\"White\",\n",
    "#     showcountries=True, countrycolor=\"Gray\"\n",
    "# )\n",
    "\n",
    "# fig.update_layout(\n",
    "#     margin={\"r\":0,\"t\":50,\"l\":0,\"b\":0},\n",
    "#     coloraxis_colorbar=dict(\n",
    "#         title=\"Avg Rank\",\n",
    "#         tickvals=np.linspace(vmin, vmax, 5)\n",
    "#     )\n",
    "# )\n",
    "\n",
    "# fig.show()"
   ]
  },
  {
   "cell_type": "markdown",
   "metadata": {},
   "source": [
    "emphasize on the south africa"
   ]
  },
  {
   "cell_type": "markdown",
   "metadata": {},
   "source": [
    "## Text using Caption style\n"
   ]
  },
  {
   "cell_type": "code",
   "execution_count": null,
   "metadata": {},
   "outputs": [
    {
     "name": "stdout",
     "output_type": "stream",
     "text": [
      "universal                 A photo of a breakfast  A photo of a clothing  \\\n",
      "region                                                                    \n",
      "argentina                               0.263988               0.242985   \n",
      "australia                               0.263901               0.253231   \n",
      "brazil                                  0.252378               0.222576   \n",
      "canada                                  0.287641               0.201918   \n",
      "china                                   0.235493               0.222819   \n",
      "egypt                                   0.232249               0.237970   \n",
      "fiji                                    0.245321               0.237687   \n",
      "germany                                 0.277055               0.243486   \n",
      "india                                   0.225147               0.227871   \n",
      "japan                                   0.233721               0.234081   \n",
      "new zealand                             0.254058               0.214272   \n",
      "nigeria                                 0.242443               0.217748   \n",
      "south africa                            0.250096               0.221471   \n",
      "spain                                   0.252275               0.232882   \n",
      "united kingdom                          0.288090               0.233322   \n",
      "united states of america                0.274382               0.241096   \n",
      "\n",
      "universal                 A photo of a dance  A photo of a dessert  \\\n",
      "region                                                               \n",
      "argentina                           0.278104              0.256553   \n",
      "australia                           0.274505              0.250746   \n",
      "brazil                              0.244556              0.249962   \n",
      "canada                              0.251894              0.260896   \n",
      "china                               0.251397              0.235158   \n",
      "egypt                               0.260379              0.247629   \n",
      "fiji                                0.243960              0.244612   \n",
      "germany                             0.268463              0.254729   \n",
      "india                               0.265034              0.234764   \n",
      "japan                               0.247758              0.248978   \n",
      "new zealand                         0.246708              0.270079   \n",
      "nigeria                             0.246130              0.240788   \n",
      "south africa                        0.249851              0.265138   \n",
      "spain                               0.263573              0.260357   \n",
      "united kingdom                      0.252097              0.278037   \n",
      "united states of america            0.272447              0.248389   \n",
      "\n",
      "universal                 A photo of a dinner  A photo of a drinks  \\\n",
      "region                                                               \n",
      "argentina                            0.240581             0.210572   \n",
      "australia                            0.236921             0.268229   \n",
      "brazil                               0.247723             0.266908   \n",
      "canada                               0.249740             0.252201   \n",
      "china                                0.264055             0.243005   \n",
      "egypt                                0.240680             0.248921   \n",
      "fiji                                 0.247423             0.249143   \n",
      "germany                              0.241649             0.244177   \n",
      "india                                0.252344             0.230614   \n",
      "japan                                0.257424             0.244949   \n",
      "new zealand                          0.243242             0.261151   \n",
      "nigeria                              0.240717             0.231524   \n",
      "south africa                         0.234181             0.226886   \n",
      "spain                                0.246922             0.265086   \n",
      "united kingdom                       0.252487             0.221101   \n",
      "united states of america             0.248903             0.267589   \n",
      "\n",
      "universal                 A photo of a eating habits  A photo of a festival  \\\n",
      "region                                                                        \n",
      "argentina                                   0.227864               0.262024   \n",
      "australia                                   0.237046               0.262155   \n",
      "brazil                                      0.240796               0.255558   \n",
      "canada                                      0.231439               0.251948   \n",
      "china                                       0.250570               0.262052   \n",
      "egypt                                       0.234897               0.250528   \n",
      "fiji                                        0.223872               0.249846   \n",
      "germany                                     0.247925               0.252496   \n",
      "india                                       0.232679               0.264442   \n",
      "japan                                       0.224548               0.267447   \n",
      "new zealand                                 0.227852               0.275770   \n",
      "nigeria                                     0.218249               0.262599   \n",
      "south africa                                0.222312               0.268558   \n",
      "spain                                       0.238947               0.262513   \n",
      "united kingdom                              0.256796               0.268340   \n",
      "united states of america                    0.239885               0.262138   \n",
      "\n",
      "universal                 A photo of a funeral  A photo of a greeting  \\\n",
      "region                                                                  \n",
      "argentina                             0.253934               0.224750   \n",
      "australia                             0.280811               0.234375   \n",
      "brazil                                0.252672               0.233573   \n",
      "canada                                0.285993               0.233417   \n",
      "china                                 0.279313               0.253728   \n",
      "egypt                                 0.292768               0.253601   \n",
      "fiji                                  0.295209               0.229808   \n",
      "germany                               0.298200               0.248259   \n",
      "india                                 0.252927               0.247939   \n",
      "japan                                 0.300727               0.252340   \n",
      "new zealand                           0.296195               0.240137   \n",
      "nigeria                               0.298880               0.241199   \n",
      "south africa                          0.263501               0.234811   \n",
      "spain                                 0.283618               0.242839   \n",
      "united kingdom                        0.291712               0.251627   \n",
      "united states of america              0.293055               0.256958   \n",
      "\n",
      "universal                 A photo of a headcoverings  A photo of a instrument  \\\n",
      "region                                                                          \n",
      "argentina                                   0.245460                 0.280804   \n",
      "australia                                   0.236976                 0.263572   \n",
      "brazil                                      0.211325                 0.263548   \n",
      "canada                                      0.234386                 0.278632   \n",
      "china                                       0.262762                 0.267342   \n",
      "egypt                                       0.254123                 0.259853   \n",
      "fiji                                        0.247958                 0.254369   \n",
      "germany                                     0.255757                 0.285692   \n",
      "india                                       0.249931                 0.254031   \n",
      "japan                                       0.262191                 0.274225   \n",
      "new zealand                                 0.210553                 0.227119   \n",
      "nigeria                                     0.241080                 0.260388   \n",
      "south africa                                0.270821                 0.252715   \n",
      "spain                                       0.259923                 0.261390   \n",
      "united kingdom                              0.229959                 0.261022   \n",
      "united states of america                    0.206366                 0.278969   \n",
      "\n",
      "universal                 A photo of a lunch  A photo of a marriage  \\\n",
      "region                                                                \n",
      "argentina                           0.231873               0.276191   \n",
      "australia                           0.229736               0.269896   \n",
      "brazil                              0.244937               0.279617   \n",
      "canada                              0.256845               0.271204   \n",
      "china                               0.245269               0.252976   \n",
      "egypt                               0.238668               0.270661   \n",
      "fiji                                0.245828               0.256560   \n",
      "germany                             0.237649               0.277692   \n",
      "india                               0.259687               0.277640   \n",
      "japan                               0.277846               0.250801   \n",
      "new zealand                         0.241196               0.276419   \n",
      "nigeria                             0.245217               0.255305   \n",
      "south africa                        0.242901               0.257902   \n",
      "spain                               0.231657               0.267636   \n",
      "united kingdom                      0.240273               0.256113   \n",
      "united states of america            0.240690               0.268123   \n",
      "\n",
      "universal                 A photo of a music  A photo of a religion  \\\n",
      "region                                                                \n",
      "argentina                           0.251460               0.243903   \n",
      "australia                           0.243328               0.240391   \n",
      "brazil                              0.228866               0.235486   \n",
      "canada                              0.230929               0.242325   \n",
      "china                               0.251113               0.239643   \n",
      "egypt                               0.234139               0.239903   \n",
      "fiji                                0.229115               0.223984   \n",
      "germany                             0.241921               0.223430   \n",
      "india                               0.242529               0.224291   \n",
      "japan                               0.234375               0.220185   \n",
      "new zealand                         0.232365               0.242470   \n",
      "nigeria                             0.243610               0.221648   \n",
      "south africa                        0.228887               0.233635   \n",
      "spain                               0.252919               0.247597   \n",
      "united kingdom                      0.239236               0.226367   \n",
      "united states of america            0.230176               0.252242   \n",
      "\n",
      "universal                 A photo of a ritual  A photo of a sports  \\\n",
      "region                                                               \n",
      "argentina                            0.256763             0.252818   \n",
      "australia                            0.238314             0.240336   \n",
      "brazil                               0.235468             0.236063   \n",
      "canada                               0.218551             0.248325   \n",
      "china                                0.238528             0.251628   \n",
      "egypt                                0.229996             0.244856   \n",
      "fiji                                 0.250076             0.243255   \n",
      "germany                              0.250437             0.250722   \n",
      "india                                0.255083             0.259957   \n",
      "japan                                0.249056             0.259975   \n",
      "new zealand                          0.220104             0.249520   \n",
      "nigeria                              0.262395             0.220928   \n",
      "south africa                         0.243933             0.252980   \n",
      "spain                                0.254779             0.250331   \n",
      "united kingdom                       0.258266             0.248902   \n",
      "united states of america             0.241546             0.240996   \n",
      "\n",
      "universal                 A photo of a transport  \n",
      "region                                            \n",
      "argentina                               0.264017  \n",
      "australia                               0.258490  \n",
      "brazil                                  0.276587  \n",
      "canada                                  0.252237  \n",
      "china                                   0.281194  \n",
      "egypt                                   0.258606  \n",
      "fiji                                    0.266976  \n",
      "germany                                 0.259568  \n",
      "india                                   0.279774  \n",
      "japan                                   0.254918  \n",
      "new zealand                             0.256810  \n",
      "nigeria                                 0.264597  \n",
      "south africa                            0.268050  \n",
      "spain                                   0.261537  \n",
      "united kingdom                          0.254328  \n",
      "united states of america                0.256333  \n"
     ]
    }
   ],
   "source": [
    "rows = []\n",
    "for concept in df['universal'].unique():\n",
    "   \n",
    "    text_emb = df.loc[df['universal'] == concept, 'universal_caption_embedding'].iloc[0]\n",
    "    \n",
    "    for region, grp in df[df['universal'] == concept].groupby('region'):\n",
    "        img_embs = np.stack(grp['image_embedding'].values)  # shape (n_imgs, 512)\n",
    "        sims = cosine_similarity([text_emb], img_embs)[0]   # shape (n_imgs,)\n",
    "        rows.append({\n",
    "            'universal': f\"A photo of a {concept}\",\n",
    "            'region':    region,\n",
    "            'text_image_similarity': sims.mean()\n",
    "        })\n",
    "\n",
    "alignment_df = pd.DataFrame(rows)\n",
    "\n",
    "pivot_df = alignment_df.pivot(index='region',\n",
    "                              columns='universal',\n",
    "                              values='text_image_similarity')\n",
    "\n",
    "print(pivot_df)\n",
    "pivot_df.to_csv(\"text_image_alignment_by_region.csv\", index=True)"
   ]
  },
  {
   "cell_type": "markdown",
   "metadata": {},
   "source": [
    "### Visualize the rankings"
   ]
  },
  {
   "cell_type": "code",
   "execution_count": null,
   "metadata": {},
   "outputs": [
    {
     "name": "stdout",
     "output_type": "stream",
     "text": [
      "                 universal                    region  rank  similarity\n",
      "0   A photo of a breakfast            united kingdom     1    0.288090\n",
      "1   A photo of a breakfast                    canada     2    0.287641\n",
      "2   A photo of a breakfast                   germany     3    0.277055\n",
      "3   A photo of a breakfast  united states of america     4    0.274382\n",
      "4   A photo of a breakfast                 argentina     5    0.263988\n",
      "5   A photo of a breakfast                 australia     6    0.263901\n",
      "6   A photo of a breakfast               new zealand     7    0.254058\n",
      "7   A photo of a breakfast                    brazil     8    0.252378\n",
      "8   A photo of a breakfast                     spain     9    0.252275\n",
      "9   A photo of a breakfast              south africa    10    0.250096\n",
      "10  A photo of a breakfast                      fiji    11    0.245321\n",
      "11  A photo of a breakfast                   nigeria    12    0.242443\n",
      "12  A photo of a breakfast                     china    13    0.235493\n",
      "13  A photo of a breakfast                     japan    14    0.233721\n",
      "14  A photo of a breakfast                     egypt    15    0.232249\n",
      "15  A photo of a breakfast                     india    16    0.225147\n",
      "16   A photo of a clothing                 australia     1    0.253231\n",
      "17   A photo of a clothing                   germany     2    0.243486\n",
      "18   A photo of a clothing                 argentina     3    0.242985\n",
      "19   A photo of a clothing  united states of america     4    0.241096\n",
      "Saved full ranking to text_image_alignment_rankings.csv\n"
     ]
    }
   ],
   "source": [
    "\n",
    "ranking_rows = []\n",
    "for concept in pivot_df.columns:\n",
    "    sorted_series = pivot_df[concept].sort_values(ascending=False)\n",
    "    for rank, (region, sim) in enumerate(sorted_series.items(), start=1):\n",
    "        ranking_rows.append({\n",
    "            'universal': concept,\n",
    "            'region': region,\n",
    "            'rank': rank,\n",
    "            'similarity': sim\n",
    "        })\n",
    "ranking_df = pd.DataFrame(ranking_rows)\n",
    "\n",
    "ranking_df.to_csv(\"text_image_alignment_rankings.csv\", index=False)\n",
    "print(\"Saved full ranking to text_image_alignment_rankings.csv\")"
   ]
  },
  {
   "cell_type": "code",
   "execution_count": null,
   "metadata": {},
   "outputs": [
    {
     "data": {
      "application/vnd.plotly.v1+json": {
       "config": {
        "plotlyServerURL": "https://plot.ly"
       },
       "data": [
        {
         "coloraxis": "coloraxis",
         "geo": "geo",
         "hovertemplate": "<b>%{hovertext}</b><br><br>iso_a3=%{location}<br>Average Rank=%{z}<extra></extra>",
         "hovertext": [
          "argentina",
          "australia",
          "brazil",
          "canada",
          "china",
          "egypt",
          "fiji",
          "germany",
          "india",
          "japan",
          "new zealand",
          "nigeria",
          "south africa",
          "spain",
          "united kingdom",
          "united states of america"
         ],
         "locations": [
          "ARG",
          "AUS",
          "BRA",
          "CAN",
          "CHN",
          "EGY",
          "FJI",
          "DEU",
          "IND",
          "JPN",
          "NZL",
          "NGA",
          "ZAF",
          "ESP",
          "GBR",
          "USA"
         ],
         "name": "",
         "type": "choropleth",
         "z": {
          "bdata": "ymsor6G8HkAor6G8hvIgQJTXUF5DeSNAXkN5DeU1IkCvobyG8hoeQIfyGsprKCNAKK+hvIbyJEAN5TWU11AaQAAAAAAAACBA5TWU11BeH0BeQ3kN5TUiQL2G8hrKayRA5TWU11BeI0BeQ3kN5TUcQGwor6G8hh5ANpTXUF5DHUA=",
          "dtype": "f8"
         }
        }
       ],
       "layout": {
        "coloraxis": {
         "cmax": 10.473684210526315,
         "cmin": 6.578947368421052,
         "colorbar": {
          "tickvals": {
           "bdata": "DeU1lNdQGkBeQ3kN5TUeQNdQXkN5DSFAAAAAAAAAI0Aor6G8hvIkQA==",
           "dtype": "f8"
          },
          "title": {
           "text": "Avg Rank"
          }
         },
         "colorscale": [
          [
           0,
           "rgb(8,48,107)"
          ],
          [
           0.125,
           "rgb(8,81,156)"
          ],
          [
           0.25,
           "rgb(33,113,181)"
          ],
          [
           0.375,
           "rgb(66,146,198)"
          ],
          [
           0.5,
           "rgb(107,174,214)"
          ],
          [
           0.625,
           "rgb(158,202,225)"
          ],
          [
           0.75,
           "rgb(198,219,239)"
          ],
          [
           0.875,
           "rgb(222,235,247)"
          ],
          [
           1,
           "rgb(247,251,255)"
          ]
         ]
        },
        "geo": {
         "center": {},
         "coastlinecolor": "LightGray",
         "countrycolor": "Gray",
         "domain": {
          "x": [
           0,
           1
          ],
          "y": [
           0,
           1
          ]
         },
         "landcolor": "White",
         "showcoastlines": true,
         "showcountries": true,
         "showland": true
        },
        "legend": {
         "tracegroupgap": 0
        },
        "margin": {
         "b": 0,
         "l": 0,
         "r": 0,
         "t": 50
        },
        "template": {
         "data": {
          "bar": [
           {
            "error_x": {
             "color": "#2a3f5f"
            },
            "error_y": {
             "color": "#2a3f5f"
            },
            "marker": {
             "line": {
              "color": "#E5ECF6",
              "width": 0.5
             },
             "pattern": {
              "fillmode": "overlay",
              "size": 10,
              "solidity": 0.2
             }
            },
            "type": "bar"
           }
          ],
          "barpolar": [
           {
            "marker": {
             "line": {
              "color": "#E5ECF6",
              "width": 0.5
             },
             "pattern": {
              "fillmode": "overlay",
              "size": 10,
              "solidity": 0.2
             }
            },
            "type": "barpolar"
           }
          ],
          "carpet": [
           {
            "aaxis": {
             "endlinecolor": "#2a3f5f",
             "gridcolor": "white",
             "linecolor": "white",
             "minorgridcolor": "white",
             "startlinecolor": "#2a3f5f"
            },
            "baxis": {
             "endlinecolor": "#2a3f5f",
             "gridcolor": "white",
             "linecolor": "white",
             "minorgridcolor": "white",
             "startlinecolor": "#2a3f5f"
            },
            "type": "carpet"
           }
          ],
          "choropleth": [
           {
            "colorbar": {
             "outlinewidth": 0,
             "ticks": ""
            },
            "type": "choropleth"
           }
          ],
          "contour": [
           {
            "colorbar": {
             "outlinewidth": 0,
             "ticks": ""
            },
            "colorscale": [
             [
              0,
              "#0d0887"
             ],
             [
              0.1111111111111111,
              "#46039f"
             ],
             [
              0.2222222222222222,
              "#7201a8"
             ],
             [
              0.3333333333333333,
              "#9c179e"
             ],
             [
              0.4444444444444444,
              "#bd3786"
             ],
             [
              0.5555555555555556,
              "#d8576b"
             ],
             [
              0.6666666666666666,
              "#ed7953"
             ],
             [
              0.7777777777777778,
              "#fb9f3a"
             ],
             [
              0.8888888888888888,
              "#fdca26"
             ],
             [
              1,
              "#f0f921"
             ]
            ],
            "type": "contour"
           }
          ],
          "contourcarpet": [
           {
            "colorbar": {
             "outlinewidth": 0,
             "ticks": ""
            },
            "type": "contourcarpet"
           }
          ],
          "heatmap": [
           {
            "colorbar": {
             "outlinewidth": 0,
             "ticks": ""
            },
            "colorscale": [
             [
              0,
              "#0d0887"
             ],
             [
              0.1111111111111111,
              "#46039f"
             ],
             [
              0.2222222222222222,
              "#7201a8"
             ],
             [
              0.3333333333333333,
              "#9c179e"
             ],
             [
              0.4444444444444444,
              "#bd3786"
             ],
             [
              0.5555555555555556,
              "#d8576b"
             ],
             [
              0.6666666666666666,
              "#ed7953"
             ],
             [
              0.7777777777777778,
              "#fb9f3a"
             ],
             [
              0.8888888888888888,
              "#fdca26"
             ],
             [
              1,
              "#f0f921"
             ]
            ],
            "type": "heatmap"
           }
          ],
          "histogram": [
           {
            "marker": {
             "pattern": {
              "fillmode": "overlay",
              "size": 10,
              "solidity": 0.2
             }
            },
            "type": "histogram"
           }
          ],
          "histogram2d": [
           {
            "colorbar": {
             "outlinewidth": 0,
             "ticks": ""
            },
            "colorscale": [
             [
              0,
              "#0d0887"
             ],
             [
              0.1111111111111111,
              "#46039f"
             ],
             [
              0.2222222222222222,
              "#7201a8"
             ],
             [
              0.3333333333333333,
              "#9c179e"
             ],
             [
              0.4444444444444444,
              "#bd3786"
             ],
             [
              0.5555555555555556,
              "#d8576b"
             ],
             [
              0.6666666666666666,
              "#ed7953"
             ],
             [
              0.7777777777777778,
              "#fb9f3a"
             ],
             [
              0.8888888888888888,
              "#fdca26"
             ],
             [
              1,
              "#f0f921"
             ]
            ],
            "type": "histogram2d"
           }
          ],
          "histogram2dcontour": [
           {
            "colorbar": {
             "outlinewidth": 0,
             "ticks": ""
            },
            "colorscale": [
             [
              0,
              "#0d0887"
             ],
             [
              0.1111111111111111,
              "#46039f"
             ],
             [
              0.2222222222222222,
              "#7201a8"
             ],
             [
              0.3333333333333333,
              "#9c179e"
             ],
             [
              0.4444444444444444,
              "#bd3786"
             ],
             [
              0.5555555555555556,
              "#d8576b"
             ],
             [
              0.6666666666666666,
              "#ed7953"
             ],
             [
              0.7777777777777778,
              "#fb9f3a"
             ],
             [
              0.8888888888888888,
              "#fdca26"
             ],
             [
              1,
              "#f0f921"
             ]
            ],
            "type": "histogram2dcontour"
           }
          ],
          "mesh3d": [
           {
            "colorbar": {
             "outlinewidth": 0,
             "ticks": ""
            },
            "type": "mesh3d"
           }
          ],
          "parcoords": [
           {
            "line": {
             "colorbar": {
              "outlinewidth": 0,
              "ticks": ""
             }
            },
            "type": "parcoords"
           }
          ],
          "pie": [
           {
            "automargin": true,
            "type": "pie"
           }
          ],
          "scatter": [
           {
            "fillpattern": {
             "fillmode": "overlay",
             "size": 10,
             "solidity": 0.2
            },
            "type": "scatter"
           }
          ],
          "scatter3d": [
           {
            "line": {
             "colorbar": {
              "outlinewidth": 0,
              "ticks": ""
             }
            },
            "marker": {
             "colorbar": {
              "outlinewidth": 0,
              "ticks": ""
             }
            },
            "type": "scatter3d"
           }
          ],
          "scattercarpet": [
           {
            "marker": {
             "colorbar": {
              "outlinewidth": 0,
              "ticks": ""
             }
            },
            "type": "scattercarpet"
           }
          ],
          "scattergeo": [
           {
            "marker": {
             "colorbar": {
              "outlinewidth": 0,
              "ticks": ""
             }
            },
            "type": "scattergeo"
           }
          ],
          "scattergl": [
           {
            "marker": {
             "colorbar": {
              "outlinewidth": 0,
              "ticks": ""
             }
            },
            "type": "scattergl"
           }
          ],
          "scattermap": [
           {
            "marker": {
             "colorbar": {
              "outlinewidth": 0,
              "ticks": ""
             }
            },
            "type": "scattermap"
           }
          ],
          "scattermapbox": [
           {
            "marker": {
             "colorbar": {
              "outlinewidth": 0,
              "ticks": ""
             }
            },
            "type": "scattermapbox"
           }
          ],
          "scatterpolar": [
           {
            "marker": {
             "colorbar": {
              "outlinewidth": 0,
              "ticks": ""
             }
            },
            "type": "scatterpolar"
           }
          ],
          "scatterpolargl": [
           {
            "marker": {
             "colorbar": {
              "outlinewidth": 0,
              "ticks": ""
             }
            },
            "type": "scatterpolargl"
           }
          ],
          "scatterternary": [
           {
            "marker": {
             "colorbar": {
              "outlinewidth": 0,
              "ticks": ""
             }
            },
            "type": "scatterternary"
           }
          ],
          "surface": [
           {
            "colorbar": {
             "outlinewidth": 0,
             "ticks": ""
            },
            "colorscale": [
             [
              0,
              "#0d0887"
             ],
             [
              0.1111111111111111,
              "#46039f"
             ],
             [
              0.2222222222222222,
              "#7201a8"
             ],
             [
              0.3333333333333333,
              "#9c179e"
             ],
             [
              0.4444444444444444,
              "#bd3786"
             ],
             [
              0.5555555555555556,
              "#d8576b"
             ],
             [
              0.6666666666666666,
              "#ed7953"
             ],
             [
              0.7777777777777778,
              "#fb9f3a"
             ],
             [
              0.8888888888888888,
              "#fdca26"
             ],
             [
              1,
              "#f0f921"
             ]
            ],
            "type": "surface"
           }
          ],
          "table": [
           {
            "cells": {
             "fill": {
              "color": "#EBF0F8"
             },
             "line": {
              "color": "white"
             }
            },
            "header": {
             "fill": {
              "color": "#C8D4E3"
             },
             "line": {
              "color": "white"
             }
            },
            "type": "table"
           }
          ]
         },
         "layout": {
          "annotationdefaults": {
           "arrowcolor": "#2a3f5f",
           "arrowhead": 0,
           "arrowwidth": 1
          },
          "autotypenumbers": "strict",
          "coloraxis": {
           "colorbar": {
            "outlinewidth": 0,
            "ticks": ""
           }
          },
          "colorscale": {
           "diverging": [
            [
             0,
             "#8e0152"
            ],
            [
             0.1,
             "#c51b7d"
            ],
            [
             0.2,
             "#de77ae"
            ],
            [
             0.3,
             "#f1b6da"
            ],
            [
             0.4,
             "#fde0ef"
            ],
            [
             0.5,
             "#f7f7f7"
            ],
            [
             0.6,
             "#e6f5d0"
            ],
            [
             0.7,
             "#b8e186"
            ],
            [
             0.8,
             "#7fbc41"
            ],
            [
             0.9,
             "#4d9221"
            ],
            [
             1,
             "#276419"
            ]
           ],
           "sequential": [
            [
             0,
             "#0d0887"
            ],
            [
             0.1111111111111111,
             "#46039f"
            ],
            [
             0.2222222222222222,
             "#7201a8"
            ],
            [
             0.3333333333333333,
             "#9c179e"
            ],
            [
             0.4444444444444444,
             "#bd3786"
            ],
            [
             0.5555555555555556,
             "#d8576b"
            ],
            [
             0.6666666666666666,
             "#ed7953"
            ],
            [
             0.7777777777777778,
             "#fb9f3a"
            ],
            [
             0.8888888888888888,
             "#fdca26"
            ],
            [
             1,
             "#f0f921"
            ]
           ],
           "sequentialminus": [
            [
             0,
             "#0d0887"
            ],
            [
             0.1111111111111111,
             "#46039f"
            ],
            [
             0.2222222222222222,
             "#7201a8"
            ],
            [
             0.3333333333333333,
             "#9c179e"
            ],
            [
             0.4444444444444444,
             "#bd3786"
            ],
            [
             0.5555555555555556,
             "#d8576b"
            ],
            [
             0.6666666666666666,
             "#ed7953"
            ],
            [
             0.7777777777777778,
             "#fb9f3a"
            ],
            [
             0.8888888888888888,
             "#fdca26"
            ],
            [
             1,
             "#f0f921"
            ]
           ]
          },
          "colorway": [
           "#636efa",
           "#EF553B",
           "#00cc96",
           "#ab63fa",
           "#FFA15A",
           "#19d3f3",
           "#FF6692",
           "#B6E880",
           "#FF97FF",
           "#FECB52"
          ],
          "font": {
           "color": "#2a3f5f"
          },
          "geo": {
           "bgcolor": "white",
           "lakecolor": "white",
           "landcolor": "#E5ECF6",
           "showlakes": true,
           "showland": true,
           "subunitcolor": "white"
          },
          "hoverlabel": {
           "align": "left"
          },
          "hovermode": "closest",
          "mapbox": {
           "style": "light"
          },
          "paper_bgcolor": "white",
          "plot_bgcolor": "#E5ECF6",
          "polar": {
           "angularaxis": {
            "gridcolor": "white",
            "linecolor": "white",
            "ticks": ""
           },
           "bgcolor": "#E5ECF6",
           "radialaxis": {
            "gridcolor": "white",
            "linecolor": "white",
            "ticks": ""
           }
          },
          "scene": {
           "xaxis": {
            "backgroundcolor": "#E5ECF6",
            "gridcolor": "white",
            "gridwidth": 2,
            "linecolor": "white",
            "showbackground": true,
            "ticks": "",
            "zerolinecolor": "white"
           },
           "yaxis": {
            "backgroundcolor": "#E5ECF6",
            "gridcolor": "white",
            "gridwidth": 2,
            "linecolor": "white",
            "showbackground": true,
            "ticks": "",
            "zerolinecolor": "white"
           },
           "zaxis": {
            "backgroundcolor": "#E5ECF6",
            "gridcolor": "white",
            "gridwidth": 2,
            "linecolor": "white",
            "showbackground": true,
            "ticks": "",
            "zerolinecolor": "white"
           }
          },
          "shapedefaults": {
           "line": {
            "color": "#2a3f5f"
           }
          },
          "ternary": {
           "aaxis": {
            "gridcolor": "white",
            "linecolor": "white",
            "ticks": ""
           },
           "baxis": {
            "gridcolor": "white",
            "linecolor": "white",
            "ticks": ""
           },
           "bgcolor": "#E5ECF6",
           "caxis": {
            "gridcolor": "white",
            "linecolor": "white",
            "ticks": ""
           }
          },
          "title": {
           "x": 0.05
          },
          "xaxis": {
           "automargin": true,
           "gridcolor": "white",
           "linecolor": "white",
           "ticks": "",
           "title": {
            "standoff": 15
           },
           "zerolinecolor": "white",
           "zerolinewidth": 2
          },
          "yaxis": {
           "automargin": true,
           "gridcolor": "white",
           "linecolor": "white",
           "ticks": "",
           "title": {
            "standoff": 15
           },
           "zerolinecolor": "white",
           "zerolinewidth": 2
          }
         }
        },
        "title": {
         "text": "Average Text–Image Alignment Rank by Country"
        }
       }
      }
     },
     "metadata": {},
     "output_type": "display_data"
    }
   ],
   "source": [
    "import pandas as pd\n",
    "import numpy as np\n",
    "import pycountry\n",
    "import plotly.express as px\n",
    "\n",
    "avg_rank = (\n",
    "    ranking_df\n",
    "    .groupby('region')['rank']\n",
    "    .mean()\n",
    "    .reset_index(name='avg_rank')\n",
    ")\n",
    "\n",
    "def to_iso3(name):\n",
    "    try:\n",
    "        return pycountry.countries.lookup(name).alpha_3\n",
    "    except:\n",
    "        return None\n",
    "\n",
    "avg_rank['iso_a3'] = avg_rank['region'].apply(to_iso3)\n",
    "\n",
    "avg_rank = avg_rank.dropna(subset=['iso_a3'])\n",
    "\n",
    "vmin, vmax = avg_rank['avg_rank'].min(), avg_rank['avg_rank'].max()\n",
    "\n",
    "fig = px.choropleth(\n",
    "    avg_rank,\n",
    "    locations=\"iso_a3\",\n",
    "    color=\"avg_rank\",\n",
    "    hover_name=\"region\",\n",
    "    color_continuous_scale=\"Blues_r\",    # darker = lower (better) rank\n",
    "    range_color=(vmin, vmax),\n",
    "    labels={\"avg_rank\": \"Average Rank\"},\n",
    "    title=\"Average Text–Image Alignment Rank by Country\"\n",
    ")\n",
    "\n",
    "fig.update_geos(\n",
    "    showcoastlines=True, coastlinecolor=\"LightGray\",\n",
    "    showland=True, landcolor=\"White\",\n",
    "    showcountries=True, countrycolor=\"Gray\"\n",
    ")\n",
    "\n",
    "fig.update_layout(\n",
    "    margin={\"r\":0,\"t\":50,\"l\":0,\"b\":0},\n",
    "    coloraxis_colorbar=dict(\n",
    "        title=\"Avg Rank\",\n",
    "        tickvals=np.linspace(vmin, vmax, 5)\n",
    "    )\n",
    ")\n",
    "\n",
    "fig.show()"
   ]
  },
  {
   "cell_type": "markdown",
   "metadata": {},
   "source": [
    " # Caption-Association (C-ASC) score"
   ]
  },
  {
   "cell_type": "code",
   "execution_count": null,
   "metadata": {},
   "outputs": [
    {
     "name": "stdout",
     "output_type": "stream",
     "text": [
      "          concept    mean_W    mean_N     C_ASC  n_W  n_N\n",
      "6         dessert  0.239566  0.225473  0.939825   21   27\n",
      "18      breakfast  0.242825  0.226669  0.859884   21   27\n",
      "15        funeral  0.267986  0.251147  0.756851   21   27\n",
      "0          drinks  0.233358  0.216365  0.730392   21   27\n",
      "7        marriage  0.241269  0.232153  0.614923   21   27\n",
      "14          dance  0.240447  0.231205  0.566274   21   27\n",
      "2   eating habits  0.223263  0.214553  0.533842   21   27\n",
      "13       religion  0.217170  0.213027  0.286465   21   27\n",
      "8        clothing  0.211649  0.208647  0.163011   21   27\n",
      "4        greeting  0.219232  0.219745 -0.032579   21   27\n",
      "17       festival  0.237434  0.238562 -0.064623   21   27\n",
      "11         sports  0.222299  0.223288 -0.066335   21   27\n",
      "1           music  0.218912  0.220234 -0.078845   21   27\n",
      "5      instrument  0.255964  0.257691 -0.082464   21   27\n",
      "10         dinner  0.230052  0.231235 -0.099500   21   27\n",
      "16         ritual  0.211780  0.214822 -0.180440   21   27\n",
      "9           lunch  0.218349  0.226586 -0.648247   21   27\n",
      "12  headcoverings  0.216897  0.234495 -0.688788   21   27\n",
      "3       transport  0.232178  0.251527 -1.374617   21   27\n"
     ]
    }
   ],
   "source": [
    "import numpy as np\n",
    "import pandas as pd\n",
    "from sklearn.metrics.pairwise import cosine_similarity\n",
    "\n",
    "\n",
    "def compute_c_asc(df):\n",
    "    rows = []\n",
    "    for concept in df['universal'].unique():\n",
    "        sub = df[df['universal'] == concept]\n",
    "        T = sub['universal_embedding'].iloc[0].reshape(1, -1)\n",
    "        W_embs = np.stack(sub[sub['region'].isin(WESTERN)]['image_embedding'].values)\n",
    "        N_embs = np.stack(sub[~sub['region'].isin(WESTERN)]['image_embedding'].values)\n",
    "        if len(W_embs) < 2 or len(N_embs) < 2:\n",
    "            continue\n",
    "\n",
    "        sims_W = cosine_similarity(T, W_embs).flatten()\n",
    "        sims_N = cosine_similarity(T, N_embs).flatten()\n",
    "        mW, mN = sims_W.mean(), sims_N.mean()\n",
    "        vW, vN = sims_W.var(ddof=1), sims_N.var(ddof=1)\n",
    "        nW, nN = len(sims_W), len(sims_N)\n",
    "        pooled_sd = np.sqrt(((nW - 1) * vW + (nN - 1) * vN) / (nW + nN - 2))\n",
    "        c_asc = (mW - mN) / pooled_sd\n",
    "\n",
    "        rows.append({\n",
    "            'concept': concept,\n",
    "            'mean_W': mW,\n",
    "            'mean_N': mN,\n",
    "            'C_ASC': c_asc,\n",
    "            'n_W': nW,\n",
    "            'n_N': nN\n",
    "        })\n",
    "\n",
    "    return pd.DataFrame(rows)\n",
    "\n",
    "\n",
    "c_asc_df = compute_c_asc(df)\n",
    "print(c_asc_df.sort_values('C_ASC', ascending=False))"
   ]
  },
  {
   "cell_type": "markdown",
   "metadata": {},
   "source": [
    "# visualizing with t-SNE\n",
    "- Reveal global and local structure: A 2D projection can show whether images from different regions intermix or form visually separable “islands.”  For example, perhaps most “breakfast” images lie in one dense cloud, but a distinct sub‑cluster of non‑Western breakfasts sits just off to the side—something a mean similarity tells you nothing about.\n",
    "- Spot outliers and non‑linear patterns: If a handful of Western images look more like non‑Western ones (or vice versa), they’ll jump out as lone points in a scatter.  That can point you to specific edge cases or confounds in the data.\n",
    "- Intuition for clustering decisions: By pre‑viewing the scatter, you can choose an appropriate clustering granularity (e.g. number of clusters in k‑means, or density parameters for HDBSCAN) so that clusters align with the shapes you actually observe."
   ]
  },
  {
   "cell_type": "markdown",
   "metadata": {},
   "source": [
    "\t1.\tJoint UMAP plot:\n",
    "\t•\tImage points colored by region (e.g. Canada vs India).\n",
    "\t•\tA big black star showing where the text prompt “A photo of a breakfast” lives.\n",
    "→ This tells you whether CLIP’s text prototype sits centrally, or is pulled into a specific region’s sub‑cloud.\n",
    "\t2.\tClustering summary:\n",
    "\t•\tHDBSCAN automatically discovers dense groups.\n",
    "\t•\tThe printed comp table shows, for each cluster, how many Western vs non‑Western images are in image vs text modality.\n",
    "→ If a cluster contains only images from one region or the text point as outlier (cluster –1), that signals a modality or cultural gap.\n"
   ]
  },
  {
   "cell_type": "code",
   "execution_count": null,
   "metadata": {},
   "outputs": [
    {
     "name": "stderr",
     "output_type": "stream",
     "text": [
      "/Library/Frameworks/Python.framework/Versions/3.12/lib/python3.12/site-packages/sklearn/utils/deprecation.py:151: FutureWarning:\n",
      "\n",
      "'force_all_finite' was renamed to 'ensure_all_finite' in 1.6 and will be removed in 1.8.\n",
      "\n",
      "/Library/Frameworks/Python.framework/Versions/3.12/lib/python3.12/site-packages/umap/umap_.py:1952: UserWarning:\n",
      "\n",
      "n_jobs value 1 overridden to 1 by setting random_state. Use no seed for parallelism.\n",
      "\n",
      "OMP: Info #276: omp_set_nested routine deprecated, please use omp_set_max_active_levels instead.\n"
     ]
    },
    {
     "data": {
      "image/png": "[encoded data removed]",
      "text/plain": [
       "<Figure size 800x600 with 1 Axes>"
      ]
     },
     "metadata": {},
     "output_type": "display_data"
    },
    {
     "data": {
      "text/plain": [
       "<Figure size 640x480 with 0 Axes>"
      ]
     },
     "metadata": {},
     "output_type": "display_data"
    }
   ],
   "source": [
    "import numpy as np\n",
    "import pandas as pd\n",
    "import matplotlib.pyplot as plt\n",
    "import umap\n",
    "import hdbscan\n",
    "from umap.umap_ import UMAP\n",
    "from sklearn.preprocessing import LabelEncoder\n",
    "from matplotlib.lines import Line2D\n",
    "\n",
    "# ---- CONFIG ----\n",
    "CONCEPT   = \"drinks\"  \n",
    "FIGSIZE   = (8, 6)\n",
    "UMAP_ARGS = dict(n_neighbors=15, min_dist=0.1, metric=\"cosine\", random_state=42)\n",
    "\n",
    "# ---- 1. Prepare data ----\n",
    "sub = df[df[\"universal\"] == CONCEPT]\n",
    "\n",
    "# Stack image embeddings and get regions\n",
    "img_embs = np.stack(sub[\"image_embedding\"].values)      \n",
    "regions  = sub[\"region\"].str.title().values            \n",
    "\n",
    "# Text prototype embedding\n",
    "cap_emb  = sub[\"universal_caption_embedding\"].iloc[0]  \n",
    "\n",
    "# Build combined array\n",
    "X = np.vstack([img_embs, cap_emb[np.newaxis, :]])      \n",
    "\n",
    "# Build meta‐labels\n",
    "meta = pd.DataFrame({\n",
    "    \"region\": np.concatenate([regions, [\"__CAPTION__\"]]),\n",
    "    \"modality\": np.concatenate([[\"image\"]*len(img_embs), [\"text\"]])\n",
    "})\n",
    "\n",
    "# ---- 2. UMAP projection ----\n",
    "proj = UMAP(**UMAP_ARGS).fit_transform(X)\n",
    "\n",
    "# ---- 3. Generate distinct colors for each region ----\n",
    "unique_regions = np.unique(regions)\n",
    "cmap = plt.get_cmap(\"tab20\")  # qualitative colormap with up to 20 distinct colors\n",
    "region_to_color = {\n",
    "    reg: cmap(i / len(unique_regions)) \n",
    "    for i, reg in enumerate(unique_regions)\n",
    "}\n",
    "\n",
    "# ---- define your Western set ----\n",
    "WESTERN = set(western_regions)\n",
    "\n",
    "# ---- 4. Plot joint 2D scatter with dynamic colors + shapes ----\n",
    "plt.figure(figsize=FIGSIZE)\n",
    "\n",
    "for reg in unique_regions:\n",
    "    mask = (meta[\"region\"] == reg) & (meta[\"modality\"] == \"image\")\n",
    "    # pick shape by region type\n",
    "    if reg.lower() in WESTERN:\n",
    "        marker = 'o'\n",
    "    else:\n",
    "        marker = 's'\n",
    "\n",
    "    plt.scatter(\n",
    "        proj[mask, 0],\n",
    "        proj[mask, 1],\n",
    "        color=region_to_color[reg],\n",
    "        marker=marker,\n",
    "        label=reg,\n",
    "        s=30,\n",
    "        alpha=0.8,\n",
    "        edgecolor='k',       # a thin black edge helps shapes stand out\n",
    "        linewidth=0.3\n",
    "    )\n",
    "\n",
    "# caption prototype remains a black star\n",
    "cap_idx = len(img_embs)\n",
    "plt.scatter(\n",
    "    proj[cap_idx, 0],\n",
    "    proj[cap_idx, 1],\n",
    "    marker=\"*\",\n",
    "    s=300,\n",
    "    color=\"black\",\n",
    "    label=\"Caption embedding\"\n",
    ")\n",
    "\n",
    "# first legend: one entry per region (colors)\n",
    "leg1 = plt.legend(\n",
    "    bbox_to_anchor=(1,1),\n",
    "    loc=\"upper left\",\n",
    "    title=\"Region\",\n",
    "    fontsize=\"small\"\n",
    ")\n",
    "plt.gca().add_artist(leg1)\n",
    "\n",
    "# second legend: shape = Western vs Non‑Western\n",
    "west_handle = Line2D(\n",
    "    [], [], color='gray', marker='o', linestyle='None',\n",
    "    markersize=8, label='Western'\n",
    ")\n",
    "nonwest_handle = Line2D(\n",
    "    [], [], color='gray', marker='s', linestyle='None',\n",
    "    markersize=8, label='Non‑Western'\n",
    ")\n",
    "plt.legend(\n",
    "    handles=[west_handle, nonwest_handle],\n",
    "    bbox_to_anchor=(1.15,0.2),\n",
    "    loc=\"upper left\",\n",
    "    title=\"Region Type\",\n",
    "    fontsize=\"small\"\n",
    ")\n",
    "\n",
    "plt.title(f\"UMAP of '{CONCEPT}' Embeddings by Region (shape=West/Non‑West)\")\n",
    "plt.show()\n",
    "plt.savefig(f\"{CONCEPT}_umap.png\")"
   ]
  },
  {
   "cell_type": "code",
   "execution_count": 100,
   "metadata": {},
   "outputs": [
    {
     "name": "stderr",
     "output_type": "stream",
     "text": [
      "/Library/Frameworks/Python.framework/Versions/3.12/lib/python3.12/site-packages/sklearn/utils/deprecation.py:151: FutureWarning:\n",
      "\n",
      "'force_all_finite' was renamed to 'ensure_all_finite' in 1.6 and will be removed in 1.8.\n",
      "\n",
      "/Library/Frameworks/Python.framework/Versions/3.12/lib/python3.12/site-packages/umap/umap_.py:1952: UserWarning:\n",
      "\n",
      "n_jobs value 1 overridden to 1 by setting random_state. Use no seed for parallelism.\n",
      "\n"
     ]
    },
    {
     "name": "stdout",
     "output_type": "stream",
     "text": [
      "Saved: Visualizations/umap_drinks.png\n"
     ]
    },
    {
     "name": "stderr",
     "output_type": "stream",
     "text": [
      "/Library/Frameworks/Python.framework/Versions/3.12/lib/python3.12/site-packages/sklearn/utils/deprecation.py:151: FutureWarning:\n",
      "\n",
      "'force_all_finite' was renamed to 'ensure_all_finite' in 1.6 and will be removed in 1.8.\n",
      "\n",
      "/Library/Frameworks/Python.framework/Versions/3.12/lib/python3.12/site-packages/umap/umap_.py:1952: UserWarning:\n",
      "\n",
      "n_jobs value 1 overridden to 1 by setting random_state. Use no seed for parallelism.\n",
      "\n"
     ]
    },
    {
     "name": "stdout",
     "output_type": "stream",
     "text": [
      "Saved: Visualizations/umap_music.png\n"
     ]
    },
    {
     "name": "stderr",
     "output_type": "stream",
     "text": [
      "/Library/Frameworks/Python.framework/Versions/3.12/lib/python3.12/site-packages/sklearn/utils/deprecation.py:151: FutureWarning:\n",
      "\n",
      "'force_all_finite' was renamed to 'ensure_all_finite' in 1.6 and will be removed in 1.8.\n",
      "\n",
      "/Library/Frameworks/Python.framework/Versions/3.12/lib/python3.12/site-packages/umap/umap_.py:1952: UserWarning:\n",
      "\n",
      "n_jobs value 1 overridden to 1 by setting random_state. Use no seed for parallelism.\n",
      "\n"
     ]
    },
    {
     "name": "stdout",
     "output_type": "stream",
     "text": [
      "Saved: Visualizations/umap_eating_habits.png\n"
     ]
    },
    {
     "name": "stderr",
     "output_type": "stream",
     "text": [
      "/Library/Frameworks/Python.framework/Versions/3.12/lib/python3.12/site-packages/sklearn/utils/deprecation.py:151: FutureWarning:\n",
      "\n",
      "'force_all_finite' was renamed to 'ensure_all_finite' in 1.6 and will be removed in 1.8.\n",
      "\n",
      "/Library/Frameworks/Python.framework/Versions/3.12/lib/python3.12/site-packages/umap/umap_.py:1952: UserWarning:\n",
      "\n",
      "n_jobs value 1 overridden to 1 by setting random_state. Use no seed for parallelism.\n",
      "\n"
     ]
    },
    {
     "name": "stdout",
     "output_type": "stream",
     "text": [
      "Saved: Visualizations/umap_transport.png\n"
     ]
    },
    {
     "name": "stderr",
     "output_type": "stream",
     "text": [
      "/Library/Frameworks/Python.framework/Versions/3.12/lib/python3.12/site-packages/sklearn/utils/deprecation.py:151: FutureWarning:\n",
      "\n",
      "'force_all_finite' was renamed to 'ensure_all_finite' in 1.6 and will be removed in 1.8.\n",
      "\n",
      "/Library/Frameworks/Python.framework/Versions/3.12/lib/python3.12/site-packages/umap/umap_.py:1952: UserWarning:\n",
      "\n",
      "n_jobs value 1 overridden to 1 by setting random_state. Use no seed for parallelism.\n",
      "\n"
     ]
    },
    {
     "name": "stdout",
     "output_type": "stream",
     "text": [
      "Saved: Visualizations/umap_greeting.png\n",
      "Saved: Visualizations/umap_instrument.png\n"
     ]
    },
    {
     "name": "stderr",
     "output_type": "stream",
     "text": [
      "/Library/Frameworks/Python.framework/Versions/3.12/lib/python3.12/site-packages/sklearn/utils/deprecation.py:151: FutureWarning:\n",
      "\n",
      "'force_all_finite' was renamed to 'ensure_all_finite' in 1.6 and will be removed in 1.8.\n",
      "\n",
      "/Library/Frameworks/Python.framework/Versions/3.12/lib/python3.12/site-packages/umap/umap_.py:1952: UserWarning:\n",
      "\n",
      "n_jobs value 1 overridden to 1 by setting random_state. Use no seed for parallelism.\n",
      "\n",
      "/Library/Frameworks/Python.framework/Versions/3.12/lib/python3.12/site-packages/sklearn/utils/deprecation.py:151: FutureWarning:\n",
      "\n",
      "'force_all_finite' was renamed to 'ensure_all_finite' in 1.6 and will be removed in 1.8.\n",
      "\n",
      "/Library/Frameworks/Python.framework/Versions/3.12/lib/python3.12/site-packages/umap/umap_.py:1952: UserWarning:\n",
      "\n",
      "n_jobs value 1 overridden to 1 by setting random_state. Use no seed for parallelism.\n",
      "\n"
     ]
    },
    {
     "name": "stdout",
     "output_type": "stream",
     "text": [
      "Saved: Visualizations/umap_dessert.png\n"
     ]
    },
    {
     "name": "stderr",
     "output_type": "stream",
     "text": [
      "/Library/Frameworks/Python.framework/Versions/3.12/lib/python3.12/site-packages/sklearn/utils/deprecation.py:151: FutureWarning:\n",
      "\n",
      "'force_all_finite' was renamed to 'ensure_all_finite' in 1.6 and will be removed in 1.8.\n",
      "\n",
      "/Library/Frameworks/Python.framework/Versions/3.12/lib/python3.12/site-packages/umap/umap_.py:1952: UserWarning:\n",
      "\n",
      "n_jobs value 1 overridden to 1 by setting random_state. Use no seed for parallelism.\n",
      "\n"
     ]
    },
    {
     "name": "stdout",
     "output_type": "stream",
     "text": [
      "Saved: Visualizations/umap_marriage.png\n"
     ]
    },
    {
     "name": "stderr",
     "output_type": "stream",
     "text": [
      "/Library/Frameworks/Python.framework/Versions/3.12/lib/python3.12/site-packages/sklearn/utils/deprecation.py:151: FutureWarning:\n",
      "\n",
      "'force_all_finite' was renamed to 'ensure_all_finite' in 1.6 and will be removed in 1.8.\n",
      "\n",
      "/Library/Frameworks/Python.framework/Versions/3.12/lib/python3.12/site-packages/umap/umap_.py:1952: UserWarning:\n",
      "\n",
      "n_jobs value 1 overridden to 1 by setting random_state. Use no seed for parallelism.\n",
      "\n"
     ]
    },
    {
     "name": "stdout",
     "output_type": "stream",
     "text": [
      "Saved: Visualizations/umap_clothing.png\n"
     ]
    },
    {
     "name": "stderr",
     "output_type": "stream",
     "text": [
      "/Library/Frameworks/Python.framework/Versions/3.12/lib/python3.12/site-packages/sklearn/utils/deprecation.py:151: FutureWarning:\n",
      "\n",
      "'force_all_finite' was renamed to 'ensure_all_finite' in 1.6 and will be removed in 1.8.\n",
      "\n",
      "/Library/Frameworks/Python.framework/Versions/3.12/lib/python3.12/site-packages/umap/umap_.py:1952: UserWarning:\n",
      "\n",
      "n_jobs value 1 overridden to 1 by setting random_state. Use no seed for parallelism.\n",
      "\n"
     ]
    },
    {
     "name": "stdout",
     "output_type": "stream",
     "text": [
      "Saved: Visualizations/umap_lunch.png\n",
      "Saved: Visualizations/umap_dinner.png\n"
     ]
    },
    {
     "name": "stderr",
     "output_type": "stream",
     "text": [
      "/Library/Frameworks/Python.framework/Versions/3.12/lib/python3.12/site-packages/sklearn/utils/deprecation.py:151: FutureWarning:\n",
      "\n",
      "'force_all_finite' was renamed to 'ensure_all_finite' in 1.6 and will be removed in 1.8.\n",
      "\n",
      "/Library/Frameworks/Python.framework/Versions/3.12/lib/python3.12/site-packages/umap/umap_.py:1952: UserWarning:\n",
      "\n",
      "n_jobs value 1 overridden to 1 by setting random_state. Use no seed for parallelism.\n",
      "\n",
      "/Library/Frameworks/Python.framework/Versions/3.12/lib/python3.12/site-packages/sklearn/utils/deprecation.py:151: FutureWarning:\n",
      "\n",
      "'force_all_finite' was renamed to 'ensure_all_finite' in 1.6 and will be removed in 1.8.\n",
      "\n",
      "/Library/Frameworks/Python.framework/Versions/3.12/lib/python3.12/site-packages/umap/umap_.py:1952: UserWarning:\n",
      "\n",
      "n_jobs value 1 overridden to 1 by setting random_state. Use no seed for parallelism.\n",
      "\n"
     ]
    },
    {
     "name": "stdout",
     "output_type": "stream",
     "text": [
      "Saved: Visualizations/umap_sports.png\n"
     ]
    },
    {
     "name": "stderr",
     "output_type": "stream",
     "text": [
      "/Library/Frameworks/Python.framework/Versions/3.12/lib/python3.12/site-packages/sklearn/utils/deprecation.py:151: FutureWarning:\n",
      "\n",
      "'force_all_finite' was renamed to 'ensure_all_finite' in 1.6 and will be removed in 1.8.\n",
      "\n",
      "/Library/Frameworks/Python.framework/Versions/3.12/lib/python3.12/site-packages/umap/umap_.py:1952: UserWarning:\n",
      "\n",
      "n_jobs value 1 overridden to 1 by setting random_state. Use no seed for parallelism.\n",
      "\n"
     ]
    },
    {
     "name": "stdout",
     "output_type": "stream",
     "text": [
      "Saved: Visualizations/umap_headcoverings.png\n"
     ]
    },
    {
     "name": "stderr",
     "output_type": "stream",
     "text": [
      "/Library/Frameworks/Python.framework/Versions/3.12/lib/python3.12/site-packages/sklearn/utils/deprecation.py:151: FutureWarning:\n",
      "\n",
      "'force_all_finite' was renamed to 'ensure_all_finite' in 1.6 and will be removed in 1.8.\n",
      "\n",
      "/Library/Frameworks/Python.framework/Versions/3.12/lib/python3.12/site-packages/umap/umap_.py:1952: UserWarning:\n",
      "\n",
      "n_jobs value 1 overridden to 1 by setting random_state. Use no seed for parallelism.\n",
      "\n"
     ]
    },
    {
     "name": "stdout",
     "output_type": "stream",
     "text": [
      "Saved: Visualizations/umap_religion.png\n",
      "Saved: Visualizations/umap_dance.png\n"
     ]
    },
    {
     "name": "stderr",
     "output_type": "stream",
     "text": [
      "/Library/Frameworks/Python.framework/Versions/3.12/lib/python3.12/site-packages/sklearn/utils/deprecation.py:151: FutureWarning:\n",
      "\n",
      "'force_all_finite' was renamed to 'ensure_all_finite' in 1.6 and will be removed in 1.8.\n",
      "\n",
      "/Library/Frameworks/Python.framework/Versions/3.12/lib/python3.12/site-packages/umap/umap_.py:1952: UserWarning:\n",
      "\n",
      "n_jobs value 1 overridden to 1 by setting random_state. Use no seed for parallelism.\n",
      "\n",
      "/Library/Frameworks/Python.framework/Versions/3.12/lib/python3.12/site-packages/sklearn/utils/deprecation.py:151: FutureWarning:\n",
      "\n",
      "'force_all_finite' was renamed to 'ensure_all_finite' in 1.6 and will be removed in 1.8.\n",
      "\n",
      "/Library/Frameworks/Python.framework/Versions/3.12/lib/python3.12/site-packages/umap/umap_.py:1952: UserWarning:\n",
      "\n",
      "n_jobs value 1 overridden to 1 by setting random_state. Use no seed for parallelism.\n",
      "\n"
     ]
    },
    {
     "name": "stdout",
     "output_type": "stream",
     "text": [
      "Saved: Visualizations/umap_funeral.png\n",
      "Saved: Visualizations/umap_ritual.png\n"
     ]
    },
    {
     "name": "stderr",
     "output_type": "stream",
     "text": [
      "/Library/Frameworks/Python.framework/Versions/3.12/lib/python3.12/site-packages/sklearn/utils/deprecation.py:151: FutureWarning:\n",
      "\n",
      "'force_all_finite' was renamed to 'ensure_all_finite' in 1.6 and will be removed in 1.8.\n",
      "\n",
      "/Library/Frameworks/Python.framework/Versions/3.12/lib/python3.12/site-packages/umap/umap_.py:1952: UserWarning:\n",
      "\n",
      "n_jobs value 1 overridden to 1 by setting random_state. Use no seed for parallelism.\n",
      "\n",
      "/Library/Frameworks/Python.framework/Versions/3.12/lib/python3.12/site-packages/sklearn/utils/deprecation.py:151: FutureWarning:\n",
      "\n",
      "'force_all_finite' was renamed to 'ensure_all_finite' in 1.6 and will be removed in 1.8.\n",
      "\n",
      "/Library/Frameworks/Python.framework/Versions/3.12/lib/python3.12/site-packages/umap/umap_.py:1952: UserWarning:\n",
      "\n",
      "n_jobs value 1 overridden to 1 by setting random_state. Use no seed for parallelism.\n",
      "\n"
     ]
    },
    {
     "name": "stdout",
     "output_type": "stream",
     "text": [
      "Saved: Visualizations/umap_festival.png\n",
      "Saved: Visualizations/umap_breakfast.png\n"
     ]
    },
    {
     "name": "stderr",
     "output_type": "stream",
     "text": [
      "/Library/Frameworks/Python.framework/Versions/3.12/lib/python3.12/site-packages/sklearn/utils/deprecation.py:151: FutureWarning:\n",
      "\n",
      "'force_all_finite' was renamed to 'ensure_all_finite' in 1.6 and will be removed in 1.8.\n",
      "\n",
      "/Library/Frameworks/Python.framework/Versions/3.12/lib/python3.12/site-packages/umap/umap_.py:1952: UserWarning:\n",
      "\n",
      "n_jobs value 1 overridden to 1 by setting random_state. Use no seed for parallelism.\n",
      "\n"
     ]
    }
   ],
   "source": [
    "import os\n",
    "import numpy as np\n",
    "import pandas as pd\n",
    "import matplotlib.pyplot as plt\n",
    "from umap.umap_ import UMAP\n",
    "from matplotlib.lines import Line2D\n",
    "\n",
    "def plot_umap_by_universal(\n",
    "    df: pd.DataFrame,\n",
    "    concept: str,\n",
    "    western_regions: set,\n",
    "    out_dir: str = \"Visualizations\",\n",
    "    figsize: tuple = (8, 6),\n",
    "    umap_args: dict = None\n",
    "):\n",
    "    \"\"\"\n",
    "    Filters df for df['universal']==concept, projects image + caption embeddings via UMAP,\n",
    "    then plots colored by region and shaped by Western/non‑Western, saving to disk.\n",
    "    \n",
    "    Parameters\n",
    "    ----------\n",
    "    df : pd.DataFrame\n",
    "        Must contain columns ['region','universal','image_embedding','universal_caption_embedding'].\n",
    "    concept : str\n",
    "        The universal value to plot.\n",
    "    western_regions : set of str\n",
    "        Region names (lower‑cased) considered Western.\n",
    "    out_dir : str\n",
    "        Directory where PNGs will be saved.\n",
    "    figsize : tuple\n",
    "        Matplotlib figure size.\n",
    "    umap_args : dict\n",
    "        Arguments passed to UMAP(), e.g. dict(n_neighbors=15, min_dist=0.1, metric=\"cosine\", random_state=42).\n",
    "    \"\"\"\n",
    "    # defaults\n",
    "    if umap_args is None:\n",
    "        umap_args = dict(n_neighbors=15, min_dist=0.1, metric=\"cosine\", random_state=42)\n",
    "\n",
    "    # prepare output folder\n",
    "    os.makedirs(out_dir, exist_ok=True)\n",
    "    \n",
    "    # filter\n",
    "    sub = df[df[\"universal\"] == concept]\n",
    "    if sub.empty:\n",
    "        print(f\"[warn] no rows for concept '{concept}'\")\n",
    "        return\n",
    "    \n",
    "    # data matrices\n",
    "    img_embs = np.stack(sub[\"image_embedding\"].values)\n",
    "    regions  = sub[\"region\"].str.title().values\n",
    "    cap_emb  = sub[\"universal_caption_embedding\"].iloc[0]\n",
    "    X = np.vstack([img_embs, cap_emb[np.newaxis, :]])\n",
    "    \n",
    "    # metadata\n",
    "    meta = pd.DataFrame({\n",
    "        \"region\": np.concatenate([regions, [\"__CAPTION__\"]]),\n",
    "        \"modality\": np.concatenate([[\"image\"]*len(img_embs), [\"text\"]])\n",
    "    })\n",
    "    \n",
    "    # project\n",
    "    proj = UMAP(**umap_args).fit_transform(X)\n",
    "    \n",
    "    # color mapping\n",
    "    unique_regions = np.unique(regions)\n",
    "    cmap = plt.get_cmap(\"tab20\")\n",
    "    region_to_color = {\n",
    "        reg: cmap(i / len(unique_regions)) \n",
    "        for i, reg in enumerate(unique_regions)\n",
    "    }\n",
    "    \n",
    "    # plot\n",
    "    plt.figure(figsize=figsize)\n",
    "    for reg in unique_regions:\n",
    "        mask = (meta[\"region\"] == reg) & (meta[\"modality\"] == \"image\")\n",
    "        marker = 'o' if reg.lower() in western_regions else 's'\n",
    "        plt.scatter(\n",
    "            proj[mask, 0], proj[mask, 1],\n",
    "            color=region_to_color[reg],\n",
    "            marker=marker, s=30, alpha=0.8,\n",
    "            edgecolor='k', linewidth=0.3,\n",
    "            label=reg\n",
    "        )\n",
    "    # caption point\n",
    "    plt.scatter(\n",
    "        proj[len(img_embs), 0], proj[len(img_embs), 1],\n",
    "        marker=\"*\", s=300, color=\"black\", label=\"Caption embedding\"\n",
    "    )\n",
    "    # legends\n",
    "    leg1 = plt.legend(\n",
    "        bbox_to_anchor=(1,1), loc=\"upper left\",\n",
    "        title=\"Region\", fontsize=\"small\"\n",
    "    )\n",
    "    plt.gca().add_artist(leg1)\n",
    "    west_handle = Line2D([], [], color='gray', marker='o', linestyle='None',\n",
    "                         markersize=8, label='Western')\n",
    "    nonwest_handle = Line2D([], [], color='gray', marker='s', linestyle='None',\n",
    "                             markersize=8, label='Non‑Western')\n",
    "    plt.legend(\n",
    "        handles=[west_handle, nonwest_handle],\n",
    "        bbox_to_anchor=(1.2,0.2), loc=\"upper left\",\n",
    "        title=\"Region Type\", fontsize=\"small\"\n",
    "    )\n",
    "    plt.title(f\"UMAP of '{concept}' Embeddings by Region\\n(shape=West/Non‑West)\")\n",
    "    plt.tight_layout()\n",
    "    \n",
    "    # save & close\n",
    "    out_path = os.path.join(out_dir, f\"umap_{concept.replace(' ', '_')}.png\")\n",
    "    plt.savefig(out_path, dpi=300)\n",
    "    plt.close()\n",
    "    print(f\"Saved: {out_path}\")\n",
    "\n",
    "\n",
    "for concept in df[\"universal\"].unique():\n",
    "    plot_umap_by_universal(df, concept, western_regions)"
   ]
  },
  {
   "cell_type": "code",
   "execution_count": 25,
   "metadata": {},
   "outputs": [
    {
     "name": "stdout",
     "output_type": "stream",
     "text": [
      "    min_cluster_size  n_clusters  noise_fraction  silhouette_score\n",
      "0                  2           2             0.5          0.144205\n",
      "1                  3           0             1.0               NaN\n",
      "2                  4           0             1.0               NaN\n",
      "3                  5           0             1.0               NaN\n",
      "4                  6           0             1.0               NaN\n",
      "5                  7           0             1.0               NaN\n",
      "6                  8           0             1.0               NaN\n",
      "7                  9           0             1.0               NaN\n",
      "8                 10           0             1.0               NaN\n",
      "9                 11           0             1.0               NaN\n",
      "10                12           0             1.0               NaN\n",
      "11                13           0             1.0               NaN\n",
      "12                14           0             1.0               NaN\n",
      "13                15           0             1.0               NaN\n",
      "14                16           0             1.0               NaN\n"
     ]
    },
    {
     "name": "stderr",
     "output_type": "stream",
     "text": [
      "/Library/Frameworks/Python.framework/Versions/3.12/lib/python3.12/site-packages/sklearn/utils/deprecation.py:151: FutureWarning:\n",
      "\n",
      "'force_all_finite' was renamed to 'ensure_all_finite' in 1.6 and will be removed in 1.8.\n",
      "\n",
      "/Library/Frameworks/Python.framework/Versions/3.12/lib/python3.12/site-packages/sklearn/utils/deprecation.py:151: FutureWarning:\n",
      "\n",
      "'force_all_finite' was renamed to 'ensure_all_finite' in 1.6 and will be removed in 1.8.\n",
      "\n",
      "/Library/Frameworks/Python.framework/Versions/3.12/lib/python3.12/site-packages/sklearn/utils/deprecation.py:151: FutureWarning:\n",
      "\n",
      "'force_all_finite' was renamed to 'ensure_all_finite' in 1.6 and will be removed in 1.8.\n",
      "\n",
      "/Library/Frameworks/Python.framework/Versions/3.12/lib/python3.12/site-packages/sklearn/utils/deprecation.py:151: FutureWarning:\n",
      "\n",
      "'force_all_finite' was renamed to 'ensure_all_finite' in 1.6 and will be removed in 1.8.\n",
      "\n",
      "/Library/Frameworks/Python.framework/Versions/3.12/lib/python3.12/site-packages/sklearn/utils/deprecation.py:151: FutureWarning:\n",
      "\n",
      "'force_all_finite' was renamed to 'ensure_all_finite' in 1.6 and will be removed in 1.8.\n",
      "\n",
      "/Library/Frameworks/Python.framework/Versions/3.12/lib/python3.12/site-packages/sklearn/utils/deprecation.py:151: FutureWarning:\n",
      "\n",
      "'force_all_finite' was renamed to 'ensure_all_finite' in 1.6 and will be removed in 1.8.\n",
      "\n",
      "/Library/Frameworks/Python.framework/Versions/3.12/lib/python3.12/site-packages/sklearn/utils/deprecation.py:151: FutureWarning:\n",
      "\n",
      "'force_all_finite' was renamed to 'ensure_all_finite' in 1.6 and will be removed in 1.8.\n",
      "\n",
      "/Library/Frameworks/Python.framework/Versions/3.12/lib/python3.12/site-packages/sklearn/utils/deprecation.py:151: FutureWarning:\n",
      "\n",
      "'force_all_finite' was renamed to 'ensure_all_finite' in 1.6 and will be removed in 1.8.\n",
      "\n",
      "/Library/Frameworks/Python.framework/Versions/3.12/lib/python3.12/site-packages/sklearn/utils/deprecation.py:151: FutureWarning:\n",
      "\n",
      "'force_all_finite' was renamed to 'ensure_all_finite' in 1.6 and will be removed in 1.8.\n",
      "\n",
      "/Library/Frameworks/Python.framework/Versions/3.12/lib/python3.12/site-packages/sklearn/utils/deprecation.py:151: FutureWarning:\n",
      "\n",
      "'force_all_finite' was renamed to 'ensure_all_finite' in 1.6 and will be removed in 1.8.\n",
      "\n",
      "/Library/Frameworks/Python.framework/Versions/3.12/lib/python3.12/site-packages/sklearn/utils/deprecation.py:151: FutureWarning:\n",
      "\n",
      "'force_all_finite' was renamed to 'ensure_all_finite' in 1.6 and will be removed in 1.8.\n",
      "\n",
      "/Library/Frameworks/Python.framework/Versions/3.12/lib/python3.12/site-packages/sklearn/utils/deprecation.py:151: FutureWarning:\n",
      "\n",
      "'force_all_finite' was renamed to 'ensure_all_finite' in 1.6 and will be removed in 1.8.\n",
      "\n",
      "/Library/Frameworks/Python.framework/Versions/3.12/lib/python3.12/site-packages/sklearn/utils/deprecation.py:151: FutureWarning:\n",
      "\n",
      "'force_all_finite' was renamed to 'ensure_all_finite' in 1.6 and will be removed in 1.8.\n",
      "\n",
      "/Library/Frameworks/Python.framework/Versions/3.12/lib/python3.12/site-packages/sklearn/utils/deprecation.py:151: FutureWarning:\n",
      "\n",
      "'force_all_finite' was renamed to 'ensure_all_finite' in 1.6 and will be removed in 1.8.\n",
      "\n",
      "/Library/Frameworks/Python.framework/Versions/3.12/lib/python3.12/site-packages/sklearn/utils/deprecation.py:151: FutureWarning:\n",
      "\n",
      "'force_all_finite' was renamed to 'ensure_all_finite' in 1.6 and will be removed in 1.8.\n",
      "\n",
      "/Library/Frameworks/Python.framework/Versions/3.12/lib/python3.12/site-packages/sklearn/utils/deprecation.py:151: FutureWarning:\n",
      "\n",
      "'force_all_finite' was renamed to 'ensure_all_finite' in 1.6 and will be removed in 1.8.\n",
      "\n",
      "/Library/Frameworks/Python.framework/Versions/3.12/lib/python3.12/site-packages/sklearn/utils/deprecation.py:151: FutureWarning:\n",
      "\n",
      "'force_all_finite' was renamed to 'ensure_all_finite' in 1.6 and will be removed in 1.8.\n",
      "\n",
      "/Library/Frameworks/Python.framework/Versions/3.12/lib/python3.12/site-packages/sklearn/utils/deprecation.py:151: FutureWarning:\n",
      "\n",
      "'force_all_finite' was renamed to 'ensure_all_finite' in 1.6 and will be removed in 1.8.\n",
      "\n",
      "/Library/Frameworks/Python.framework/Versions/3.12/lib/python3.12/site-packages/sklearn/utils/deprecation.py:151: FutureWarning:\n",
      "\n",
      "'force_all_finite' was renamed to 'ensure_all_finite' in 1.6 and will be removed in 1.8.\n",
      "\n",
      "/Library/Frameworks/Python.framework/Versions/3.12/lib/python3.12/site-packages/sklearn/utils/deprecation.py:151: FutureWarning:\n",
      "\n",
      "'force_all_finite' was renamed to 'ensure_all_finite' in 1.6 and will be removed in 1.8.\n",
      "\n",
      "/Library/Frameworks/Python.framework/Versions/3.12/lib/python3.12/site-packages/sklearn/utils/deprecation.py:151: FutureWarning:\n",
      "\n",
      "'force_all_finite' was renamed to 'ensure_all_finite' in 1.6 and will be removed in 1.8.\n",
      "\n",
      "/Library/Frameworks/Python.framework/Versions/3.12/lib/python3.12/site-packages/sklearn/utils/deprecation.py:151: FutureWarning:\n",
      "\n",
      "'force_all_finite' was renamed to 'ensure_all_finite' in 1.6 and will be removed in 1.8.\n",
      "\n",
      "/Library/Frameworks/Python.framework/Versions/3.12/lib/python3.12/site-packages/sklearn/utils/deprecation.py:151: FutureWarning:\n",
      "\n",
      "'force_all_finite' was renamed to 'ensure_all_finite' in 1.6 and will be removed in 1.8.\n",
      "\n",
      "/Library/Frameworks/Python.framework/Versions/3.12/lib/python3.12/site-packages/sklearn/utils/deprecation.py:151: FutureWarning:\n",
      "\n",
      "'force_all_finite' was renamed to 'ensure_all_finite' in 1.6 and will be removed in 1.8.\n",
      "\n",
      "/Library/Frameworks/Python.framework/Versions/3.12/lib/python3.12/site-packages/sklearn/utils/deprecation.py:151: FutureWarning:\n",
      "\n",
      "'force_all_finite' was renamed to 'ensure_all_finite' in 1.6 and will be removed in 1.8.\n",
      "\n",
      "/Library/Frameworks/Python.framework/Versions/3.12/lib/python3.12/site-packages/sklearn/utils/deprecation.py:151: FutureWarning:\n",
      "\n",
      "'force_all_finite' was renamed to 'ensure_all_finite' in 1.6 and will be removed in 1.8.\n",
      "\n",
      "/Library/Frameworks/Python.framework/Versions/3.12/lib/python3.12/site-packages/sklearn/utils/deprecation.py:151: FutureWarning:\n",
      "\n",
      "'force_all_finite' was renamed to 'ensure_all_finite' in 1.6 and will be removed in 1.8.\n",
      "\n",
      "/Library/Frameworks/Python.framework/Versions/3.12/lib/python3.12/site-packages/sklearn/utils/deprecation.py:151: FutureWarning:\n",
      "\n",
      "'force_all_finite' was renamed to 'ensure_all_finite' in 1.6 and will be removed in 1.8.\n",
      "\n",
      "/Library/Frameworks/Python.framework/Versions/3.12/lib/python3.12/site-packages/sklearn/utils/deprecation.py:151: FutureWarning:\n",
      "\n",
      "'force_all_finite' was renamed to 'ensure_all_finite' in 1.6 and will be removed in 1.8.\n",
      "\n",
      "/Library/Frameworks/Python.framework/Versions/3.12/lib/python3.12/site-packages/sklearn/utils/deprecation.py:151: FutureWarning:\n",
      "\n",
      "'force_all_finite' was renamed to 'ensure_all_finite' in 1.6 and will be removed in 1.8.\n",
      "\n"
     ]
    },
    {
     "data": {
      "image/png": "[encoded data removed]",
      "text/plain": [
       "<Figure size 800x400 with 1 Axes>"
      ]
     },
     "metadata": {},
     "output_type": "display_data"
    }
   ],
   "source": [
    "import numpy as np\n",
    "import pandas as pd\n",
    "import matplotlib.pyplot as plt\n",
    "from sklearn.metrics import silhouette_score\n",
    "\n",
    "# Make sure df is already defined:\n",
    "# df should have columns ['region','universal','image_embedding']\n",
    "\n",
    "CONCEPT = \"drinks\"\n",
    "sub = df[df[\"universal\"] == CONCEPT]\n",
    "X = np.stack(sub[\"image_embedding\"].values)\n",
    "\n",
    "# Try HDBSCAN if installed, otherwise fall back to DBSCAN\n",
    "try:\n",
    "    import hdbscan\n",
    "    clustering_algo = \"HDBSCAN\"\n",
    "except ImportError:\n",
    "    from sklearn.cluster import DBSCAN\n",
    "    clustering_algo = \"DBSCAN\"\n",
    "\n",
    "results = []\n",
    "\n",
    "if clustering_algo == \"HDBSCAN\":\n",
    "    # Sweep over min_cluster_size\n",
    "    for mcs in range(2, min(len(X), 16) + 1):\n",
    "        clusterer = hdbscan.HDBSCAN(min_cluster_size=mcs, metric=\"euclidean\")\n",
    "        labels = clusterer.fit_predict(X)\n",
    "        n_clusters = len(set(labels)) - (1 if -1 in labels else 0)\n",
    "        noise_frac = (labels == -1).mean()\n",
    "        sil = (silhouette_score(X[labels != -1], labels[labels != -1])\n",
    "               if n_clusters > 1 else np.nan)\n",
    "        results.append({\n",
    "            'min_cluster_size': mcs,\n",
    "            'n_clusters': n_clusters,\n",
    "            'noise_fraction': noise_frac,\n",
    "            'silhouette_score': sil\n",
    "        })\n",
    "\n",
    "else:\n",
    "    # Sweep over eps and min_samples for DBSCAN\n",
    "    eps_vals = np.linspace(0.1, 1.0, 10)\n",
    "    ms_vals  = [2, 3, 5, 8]\n",
    "    for eps in eps_vals:\n",
    "        for ms in ms_vals:\n",
    "            clusterer = DBSCAN(eps=eps, min_samples=ms, metric=\"euclidean\")\n",
    "            labels = clusterer.fit_predict(X)\n",
    "            n_clusters = len(set(labels)) - (1 if -1 in labels else 0)\n",
    "            noise_frac = (labels == -1).mean()\n",
    "            sil = (silhouette_score(X[labels != -1], labels[labels != -1])\n",
    "                   if n_clusters > 1 else np.nan)\n",
    "            results.append({\n",
    "                'eps': round(eps,2),\n",
    "                'min_samples': ms,\n",
    "                'n_clusters': n_clusters,\n",
    "                'noise_fraction': noise_frac,\n",
    "                'silhouette_score': sil\n",
    "            })\n",
    "\n",
    "# Collect and display\n",
    "res_df = pd.DataFrame(results)\n",
    "print(res_df)\n",
    "\n",
    "# Plot noise_fraction vs silhouette_score to spot the Pareto‐optimal region\n",
    "plt.figure(figsize=(8,4))\n",
    "plt.scatter(res_df['noise_fraction'], res_df['silhouette_score'], s=50)\n",
    "for idx, row in res_df.iterrows():\n",
    "    # label each point by its primary parameter\n",
    "    label = row.get('min_cluster_size', row.get('eps'))\n",
    "    plt.annotate(label, (row['noise_fraction'], row['silhouette_score']))\n",
    "plt.xlabel('Noise Fraction')\n",
    "plt.ylabel('Silhouette Score')\n",
    "plt.title(f'{clustering_algo} parameter sweep for \"{CONCEPT}\"')\n",
    "plt.tight_layout()\n",
    "plt.show()"
   ]
  },
  {
   "cell_type": "code",
   "execution_count": null,
   "metadata": {},
   "outputs": [
    {
     "name": "stdout",
     "output_type": "stream",
     "text": [
      "Adjusted Rand Index (UMAP+DBSCAN vs West/Non‑West): 0.081\n",
      "\n",
      "Cluster composition by region type:\n",
      " region_type  Non‑Western  Western\n",
      "cluster                          \n",
      "-1                    21       11\n",
      " 0                     1        4\n",
      " 1                     1        5\n",
      " 2                     4        1\n"
     ]
    },
    {
     "name": "stderr",
     "output_type": "stream",
     "text": [
      "/Library/Frameworks/Python.framework/Versions/3.12/lib/python3.12/site-packages/sklearn/utils/deprecation.py:151: FutureWarning:\n",
      "\n",
      "'force_all_finite' was renamed to 'ensure_all_finite' in 1.6 and will be removed in 1.8.\n",
      "\n",
      "/Library/Frameworks/Python.framework/Versions/3.12/lib/python3.12/site-packages/umap/umap_.py:1952: UserWarning:\n",
      "\n",
      "n_jobs value 1 overridden to 1 by setting random_state. Use no seed for parallelism.\n",
      "\n"
     ]
    },
    {
     "data": {
      "image/png": "[encoded data removed]",
      "text/plain": [
       "<Figure size 800x600 with 1 Axes>"
      ]
     },
     "metadata": {},
     "output_type": "display_data"
    }
   ],
   "source": [
    "import numpy as np\n",
    "import matplotlib.pyplot as plt\n",
    "from sklearn.cluster import DBSCAN\n",
    "from sklearn.metrics import adjusted_rand_score\n",
    "from sklearn.preprocessing import LabelEncoder\n",
    "\n",
    "# 1) Choose projection method\n",
    "try:\n",
    "    from umap import UMAP\n",
    "    reducer = UMAP(n_neighbors=15, min_dist=0.1, metric=\"cosine\", random_state=42)\n",
    "    proj_name = \"UMAP\"\n",
    "except ImportError:\n",
    "    from sklearn.manifold import TSNE\n",
    "    reducer = TSNE(n_components=2, metric=\"cosine\", random_state=42)\n",
    "    proj_name = \"t-SNE\"\n",
    "\n",
    "# 2) Config\n",
    "CONCEPT = \"drinks\"                      # change to any universal\n",
    "DBSCAN_PARAMS = {'eps': 0.5, 'min_samples': 5}\n",
    "WESTERN = western_regions\n",
    "\n",
    "# 3) Extract the image embeddings and metadata\n",
    "sub = df[df[\"universal\"] == CONCEPT].reset_index(drop=True)\n",
    "X = np.stack(sub[\"image_embedding\"].values)    # (N,512)\n",
    "regions = sub[\"region\"].str.title().values     # e.g. [\"Canada\", \"India\", ...]\n",
    "region_type = np.array([\n",
    "    \"Western\" if r.lower() in WESTERN else \"Non‑Western\"\n",
    "    for r in sub[\"region\"]\n",
    "])\n",
    "\n",
    "# 4) Project into 2D\n",
    "proj2d = reducer.fit_transform(X)               # (N,2)\n",
    "\n",
    "# 5) DBSCAN clustering on the 2D points\n",
    "db = DBSCAN(eps=DBSCAN_PARAMS['eps'],\n",
    "            min_samples=DBSCAN_PARAMS['min_samples'],\n",
    "            metric=\"euclidean\")\n",
    "labels = db.fit_predict(proj2d)                 # -1 = noise\n",
    "\n",
    "# 6) Evaluate cluster vs region—compute ARI\n",
    "y_true = LabelEncoder().fit_transform(region_type)\n",
    "ari = adjusted_rand_score(y_true, labels)\n",
    "print(f\"Adjusted Rand Index ({proj_name}+DBSCAN vs West/Non‑West): {ari:.3f}\")\n",
    "\n",
    "# 7) Show cluster composition\n",
    "import pandas as pd\n",
    "comp = pd.DataFrame({\n",
    "    \"cluster\": labels,\n",
    "    \"region_type\": region_type\n",
    "}).groupby([\"cluster\",\"region_type\"]).size().unstack(fill_value=0)\n",
    "print(\"\\nCluster composition by region type:\\n\", comp)\n",
    "\n",
    "# 8) Plot\n",
    "FIGSIZE = (8,6)\n",
    "markers = {\"Western\": \"o\", \"Non‑Western\": \"s\"}\n",
    "palette = plt.get_cmap(\"tab10\")\n",
    "\n",
    "plt.figure(figsize=FIGSIZE)\n",
    "for cl in np.unique(labels):\n",
    "    color = \"lightgrey\" if cl == -1 else palette(cl % 10)\n",
    "    for rt in [\"Western\",\"Non‑Western\"]:\n",
    "        mask = (labels == cl) & (region_type == rt)\n",
    "        if not mask.any(): continue\n",
    "        plt.scatter(\n",
    "            proj2d[mask,0], proj2d[mask,1],\n",
    "            marker=markers[rt], c=[color],\n",
    "            edgecolor=\"k\", linewidth=0.6,\n",
    "            s=80,\n",
    "            label=f\"{'Noise' if cl==-1 else 'Cluster '+str(cl)} ({rt})\"\n",
    "        )\n",
    "\n",
    "plt.title(f\"{proj_name} + DBSCAN on '{CONCEPT}' Embeddings\")\n",
    "plt.xlabel(f\"{proj_name} Dim 1\")\n",
    "plt.ylabel(f\"{proj_name} Dim 2\")\n",
    "plt.legend(bbox_to_anchor=(1,1), fontsize=\"small\")\n",
    "plt.tight_layout()\n",
    "plt.show()"
   ]
  },
  {
   "cell_type": "code",
   "execution_count": 29,
   "metadata": {},
   "outputs": [
    {
     "name": "stdout",
     "output_type": "stream",
     "text": [
      "K‑Means (k=2) best accuracy vs West/Non‑West = 0.750\n",
      "Adjusted Rand Index = 0.234\n"
     ]
    },
    {
     "name": "stderr",
     "output_type": "stream",
     "text": [
      "/Library/Frameworks/Python.framework/Versions/3.12/lib/python3.12/site-packages/sklearn/utils/deprecation.py:151: FutureWarning:\n",
      "\n",
      "'force_all_finite' was renamed to 'ensure_all_finite' in 1.6 and will be removed in 1.8.\n",
      "\n",
      "/Library/Frameworks/Python.framework/Versions/3.12/lib/python3.12/site-packages/umap/umap_.py:1952: UserWarning:\n",
      "\n",
      "n_jobs value 1 overridden to 1 by setting random_state. Use no seed for parallelism.\n",
      "\n"
     ]
    },
    {
     "data": {
      "image/png": "[encoded data removed]",
      "text/plain": [
       "<Figure size 800x600 with 1 Axes>"
      ]
     },
     "metadata": {},
     "output_type": "display_data"
    }
   ],
   "source": [
    "# 5) K‑Means clustering on the 2D projection\n",
    "from sklearn.cluster import KMeans\n",
    "from sklearn.metrics import accuracy_score, adjusted_rand_score\n",
    "\n",
    "# 1) Choose projection method\n",
    "try:\n",
    "    from umap import UMAP\n",
    "    reducer = UMAP(n_neighbors=15, min_dist=0.1, metric=\"cosine\", random_state=42)\n",
    "    proj_name = \"UMAP\"\n",
    "except ImportError:\n",
    "    from sklearn.manifold import TSNE\n",
    "    reducer = TSNE(n_components=2, metric=\"cosine\", random_state=42)\n",
    "    proj_name = \"t-SNE\"\n",
    "\n",
    "# 2) Config\n",
    "CONCEPT = \"drinks\"                      # change to any universal\n",
    "DBSCAN_PARAMS = {'eps': 0.5, 'min_samples': 5}\n",
    "WESTERN = western_regions\n",
    "\n",
    "# 3) Extract the image embeddings and metadata\n",
    "sub = df[df[\"universal\"] == CONCEPT].reset_index(drop=True)\n",
    "X = np.stack(sub[\"image_embedding\"].values)    # (N,512)\n",
    "regions = sub[\"region\"].str.title().values     # e.g. [\"Canada\", \"India\", ...]\n",
    "region_type = np.array([\n",
    "    \"Western\" if r.lower() in WESTERN else \"Non‑Western\"\n",
    "    for r in sub[\"region\"]\n",
    "])\n",
    "\n",
    "# 4) Project into 2D\n",
    "proj2d = reducer.fit_transform(X)               # (N,2)\n",
    "kmeans2d = KMeans(n_clusters=2, random_state=42)\n",
    "cluster_labels = kmeans2d.fit_predict(proj2d)\n",
    "\n",
    "# 6) Evaluate against true West/Non‑West labels\n",
    "y_true = np.array([1 if rt == \"Western\" else 0 for rt in region_type])\n",
    "acc1 = accuracy_score(y_true, cluster_labels)\n",
    "acc2 = accuracy_score(y_true, 1 - cluster_labels)\n",
    "best_acc = max(acc1, acc2)\n",
    "ari = adjusted_rand_score(y_true, cluster_labels)\n",
    "print(f\"K‑Means (k=2) best accuracy vs West/Non‑West = {best_acc:.3f}\")\n",
    "print(f\"Adjusted Rand Index = {ari:.3f}\")\n",
    "\n",
    "# 7) Build a meshgrid for the decision boundary\n",
    "x_min, x_max = proj2d[:,0].min() - 0.5, proj2d[:,0].max() + 0.5\n",
    "y_min, y_max = proj2d[:,1].min() - 0.5, proj2d[:,1].max() + 0.5\n",
    "xx, yy = np.meshgrid(\n",
    "    np.linspace(x_min, x_max, 300),\n",
    "    np.linspace(y_min, y_max, 300)\n",
    ")\n",
    "Z = kmeans2d.predict(np.c_[xx.ravel(), yy.ravel()]).reshape(xx.shape)\n",
    "\n",
    "# 8) Plot background + all points\n",
    "import matplotlib.pyplot as plt\n",
    "plt.figure(figsize=(8,6))\n",
    "\n",
    "# Shade the two cluster regions\n",
    "plt.contourf(xx, yy, Z, levels=[-0.5, 0.5, 1.5],\n",
    "             colors=['#FFDADA', '#DAFFDA'], alpha=0.4)\n",
    "\n",
    "# Overlay every point, marker by region_type\n",
    "for rt, marker, color in [('Western','o','red'), ('Non‑Western','s','blue')]:\n",
    "    mask = region_type == rt\n",
    "    plt.scatter(\n",
    "        proj2d[mask,0], proj2d[mask,1],\n",
    "        marker=marker, c=color, edgecolor='k',\n",
    "        linewidth=0.6, s=80, label=rt\n",
    "    )\n",
    "\n",
    "plt.title(f\"{proj_name} + K‑Means(k=2) Decision Boundary for '{CONCEPT}'\")\n",
    "plt.xlabel(f\"{proj_name} Dim 1\")\n",
    "plt.ylabel(f\"{proj_name} Dim 2\")\n",
    "plt.legend(loc='best', fontsize='small')\n",
    "plt.tight_layout()\n",
    "plt.show()"
   ]
  },
  {
   "cell_type": "code",
   "execution_count": null,
   "metadata": {},
   "outputs": [],
   "source": [
    "# from sklearn.manifold import TSNE\n",
    "# import numpy as np\n",
    "\n",
    "# # Assuming `embeddings` is a NumPy array of shape (N_images, 512)\n",
    "# tsne = TSNE(n_components=2, perplexity=30, random_state=42)\n",
    "# embeddings_2d = tsne.fit_transform(embeddings)  # shape: (N_images, 2)\n",
    "# print(embeddings_2d[:5])  # print first 5 transformed coordinates"
   ]
  },
  {
   "cell_type": "markdown",
   "metadata": {},
   "source": [
    "<!-- After reducing to 2D, we can create a scatter plot to visualize the embedding space. We’ll color each point by its region to see if images from the same region cluster together:\n",
    "\n",
    "Using seaborn makes it easy to add a legend and colors for each region category. In the above plot code, each point represents an image in the dataset projected into 2D, and points are colored by the region. This visualization helps reveal any natural clustering by cultural region. For instance, if images from Western countries cluster separately from images from Asian or African countries, it would be visible here. (Note: For clarity, consider plotting a subset of points if the dataset is large, or adjust perplexity for t-SNE as needed.) -->"
   ]
  },
  {
   "cell_type": "code",
   "execution_count": null,
   "metadata": {},
   "outputs": [],
   "source": [
    "# import matplotlib.pyplot as plt\n",
    "# import seaborn as sns\n",
    "\n",
    "# # Prepare list of region labels corresponding to the embeddings\n",
    "# region_labels = [item['region'] for item in ds[:len(embeddings)]] \n",
    "\n",
    "# plt.figure(figsize=(8,6))\n",
    "# sns.scatterplot(x=embeddings_2d[:,0], y=embeddings_2d[:,1], \n",
    "#                 hue=region_labels, palette=\"bright\", alpha=0.7)\n",
    "# plt.title(\"t-SNE of CLIP Image Embeddings (colored by region)\")\n",
    "# plt.legend(title=\"Region\", bbox_to_anchor=(1.05, 1), loc='upper left')\n",
    "# plt.show()"
   ]
  },
  {
   "cell_type": "markdown",
   "metadata": {},
   "source": [
    "<!-- 4. Clustering Embeddings and Evaluating with Silhouette Score\n",
    "\n",
    "Next, we perform k-means clustering on the image embeddings to see how they group in an unsupervised manner. We can choose a number of clusters k (for example, equal to the number of distinct regions, or an arbitrary value like 5 or 10) and fit KMeans. After clustering, we evaluate the cluster quality using the silhouette score. The silhouette score (range -1 to 1) measures how similar an object is to its own cluster compared to other clusters – higher values indicate well-separated, cohesive clusters (https://medium.com/data-scientists-diary/pytorch-for-unsupervised-clustering-a-practical-guide-38387a3d3bd1#:~:text=from%20sklearn). -->\n"
   ]
  }
 ],
 "metadata": {
  "kernelspec": {
   "display_name": "Python 3",
   "language": "python",
   "name": "python3"
  },
  "language_info": {
   "codemirror_mode": {
    "name": "ipython",
    "version": 3
   },
   "file_extension": ".py",
   "mimetype": "text/x-python",
   "name": "python",
   "nbconvert_exporter": "python",
   "pygments_lexer": "ipython3",
   "version": "3.12.4"
  }
 },
 "nbformat": 4,
 "nbformat_minor": 2
}
